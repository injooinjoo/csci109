{
 "cells": [
  {
   "cell_type": "code",
   "execution_count": 10,
   "id": "f19b2934-9f38-472c-afb9-070d67a9d7d6",
   "metadata": {},
   "outputs": [],
   "source": [
    "import numpy as np\n",
    "import pandas as pd\n",
    "import matplotlib\n",
    "import matplotlib.pyplot as plt\n",
    "import seaborn as sns\n",
    "from sklearn.linear_model import LinearRegression"
   ]
  },
  {
   "cell_type": "markdown",
   "id": "545ad9be-0b85-460f-8375-37bde5958de7",
   "metadata": {},
   "source": [
    "# Preprocessing ASEC data and simulating response values"
   ]
  },
  {
   "cell_type": "markdown",
   "id": "0f3a3fe2-d464-409e-8974-ae49219a9d70",
   "metadata": {},
   "source": [
    "ASEC Data Source: https://www.census.gov/data/datasets/time-series/demo/cps/cps-asec.html\n",
    "\n",
    "There are household, family, and person level datasets. We'll use the person level.\n",
    "\n",
    "If you'd like to run this notebook or try your own preprocessing approaches, please download the datafile yourself. It is a bit large for git and Canvas.\n",
    "\n",
    "**Note:** If you do decide to try your own preprocessing, **please use the preprocessed data provided with the assignment for your analysis in the HW2 notebook for consistency.**"
   ]
  },
  {
   "cell_type": "code",
   "execution_count": 11,
   "id": "3e01d36e-e0c9-4288-9a2b-0166e56aa06d",
   "metadata": {},
   "outputs": [],
   "source": [
    "data = pd.read_csv('pppub24.csv',on_bad_lines='skip')"
   ]
  },
  {
   "cell_type": "code",
   "execution_count": 12,
   "id": "3f532321-8c6e-4cfd-85cd-94877223e9fb",
   "metadata": {},
   "outputs": [
    {
     "data": {
      "text/plain": [
       "(144265, 828)"
      ]
     },
     "execution_count": 12,
     "metadata": {},
     "output_type": "execute_result"
    }
   ],
   "source": [
    "data.shape"
   ]
  },
  {
   "cell_type": "markdown",
   "id": "8802dd10-1cd7-41d9-8b94-53b07de3cf4e",
   "metadata": {},
   "source": [
    "There are many, many predictors. We've selected a subset.\n",
    "\n",
    "The data dictionary is here: https://www2.census.gov/programs-surveys/cps/datasets/2024/march/asec2024_ddl_pub_full.pdf"
   ]
  },
  {
   "cell_type": "markdown",
   "id": "149cf983-c80d-4445-80c7-01f45248428e",
   "metadata": {},
   "source": [
    "## Subset and rename predictors"
   ]
  },
  {
   "cell_type": "code",
   "execution_count": 13,
   "id": "fe955c00",
   "metadata": {},
   "outputs": [],
   "source": [
    "# an incomplete list of some possible predictors\n",
    "# more info in the data dictionary: https://www2.census.gov/programs-surveys/cps/datasets/2024/march/asec2024_ddl_pub_full.pdf\n",
    "cols = {\n",
    "#     Quantative\n",
    "    'A_AGE' : 'age',\n",
    "    'WKSWORK': 'weeks_worked',\n",
    "    'HRSWK': 'hours_per_week', # hours worked last week\n",
    "    'A_HRSPAY': 'hourly_pay', # hourly pay [Note: probably needs an interaction term as 0=not paid by hour]\n",
    "    \n",
    "#     Qualitative\n",
    "    'A_FTPT': 'student_status', # full-time enrollement (3 classes)\n",
    "    'A_HGA': 'education', # educational attainment (17 classes) [not quite qualitative]\n",
    "    'A_MARITL': 'marital_status', # marital status (7 classes)\n",
    "    'A_SEX': 'sex', # sex (2 classes)\n",
    "    'PEAFEVER': 'military_service', # served in military (3 classes)\n",
    "    'PRDTRACE': 'race', # race (26 classes)\n",
    "    'A_MJIND': 'industry', # industry (work) code (17 classes)\n",
    "    'A_MJOCC': 'occupation', # major occupation code (12 classes)\n",
    "    'A_HRLYWK': 'is_paid_by_hour', # is paied by hour (3 classes)\n",
    "    'PRPERTYP': 'person_record',\n",
    "    \n",
    "    'PTOT_R': 'income' \n",
    "}\n",
    "\n",
    "# to predict\n",
    "response = 'income' # total person income (41 'buckets')"
   ]
  },
  {
   "cell_type": "markdown",
   "id": "d1054282",
   "metadata": {},
   "source": [
    "#### Renaming columns for readability"
   ]
  },
  {
   "cell_type": "code",
   "execution_count": 14,
   "id": "7a872c89",
   "metadata": {},
   "outputs": [
    {
     "data": {
      "text/html": [
       "<div>\n",
       "<style scoped>\n",
       "    .dataframe tbody tr th:only-of-type {\n",
       "        vertical-align: middle;\n",
       "    }\n",
       "\n",
       "    .dataframe tbody tr th {\n",
       "        vertical-align: top;\n",
       "    }\n",
       "\n",
       "    .dataframe thead th {\n",
       "        text-align: right;\n",
       "    }\n",
       "</style>\n",
       "<table border=\"1\" class=\"dataframe\">\n",
       "  <thead>\n",
       "    <tr style=\"text-align: right;\">\n",
       "      <th></th>\n",
       "      <th>age</th>\n",
       "      <th>weeks_worked</th>\n",
       "      <th>hours_per_week</th>\n",
       "      <th>hourly_pay</th>\n",
       "      <th>student_status</th>\n",
       "      <th>education</th>\n",
       "      <th>marital_status</th>\n",
       "      <th>sex</th>\n",
       "      <th>military_service</th>\n",
       "      <th>race</th>\n",
       "      <th>industry</th>\n",
       "      <th>occupation</th>\n",
       "      <th>is_paid_by_hour</th>\n",
       "      <th>person_record</th>\n",
       "      <th>income</th>\n",
       "    </tr>\n",
       "  </thead>\n",
       "  <tbody>\n",
       "    <tr>\n",
       "      <th>0</th>\n",
       "      <td>85</td>\n",
       "      <td>0</td>\n",
       "      <td>0</td>\n",
       "      <td>-1</td>\n",
       "      <td>0</td>\n",
       "      <td>39</td>\n",
       "      <td>1</td>\n",
       "      <td>2</td>\n",
       "      <td>2</td>\n",
       "      <td>1</td>\n",
       "      <td>0</td>\n",
       "      <td>0</td>\n",
       "      <td>0</td>\n",
       "      <td>2</td>\n",
       "      <td>4</td>\n",
       "    </tr>\n",
       "    <tr>\n",
       "      <th>1</th>\n",
       "      <td>85</td>\n",
       "      <td>0</td>\n",
       "      <td>0</td>\n",
       "      <td>-1</td>\n",
       "      <td>0</td>\n",
       "      <td>39</td>\n",
       "      <td>1</td>\n",
       "      <td>1</td>\n",
       "      <td>1</td>\n",
       "      <td>1</td>\n",
       "      <td>0</td>\n",
       "      <td>0</td>\n",
       "      <td>0</td>\n",
       "      <td>2</td>\n",
       "      <td>10</td>\n",
       "    </tr>\n",
       "    <tr>\n",
       "      <th>2</th>\n",
       "      <td>15</td>\n",
       "      <td>0</td>\n",
       "      <td>0</td>\n",
       "      <td>-1</td>\n",
       "      <td>0</td>\n",
       "      <td>34</td>\n",
       "      <td>7</td>\n",
       "      <td>2</td>\n",
       "      <td>-1</td>\n",
       "      <td>1</td>\n",
       "      <td>0</td>\n",
       "      <td>0</td>\n",
       "      <td>0</td>\n",
       "      <td>2</td>\n",
       "      <td>1</td>\n",
       "    </tr>\n",
       "    <tr>\n",
       "      <th>3</th>\n",
       "      <td>53</td>\n",
       "      <td>0</td>\n",
       "      <td>0</td>\n",
       "      <td>-1</td>\n",
       "      <td>0</td>\n",
       "      <td>39</td>\n",
       "      <td>1</td>\n",
       "      <td>2</td>\n",
       "      <td>2</td>\n",
       "      <td>1</td>\n",
       "      <td>0</td>\n",
       "      <td>0</td>\n",
       "      <td>0</td>\n",
       "      <td>2</td>\n",
       "      <td>5</td>\n",
       "    </tr>\n",
       "    <tr>\n",
       "      <th>4</th>\n",
       "      <td>52</td>\n",
       "      <td>52</td>\n",
       "      <td>42</td>\n",
       "      <td>-1</td>\n",
       "      <td>0</td>\n",
       "      <td>40</td>\n",
       "      <td>1</td>\n",
       "      <td>1</td>\n",
       "      <td>2</td>\n",
       "      <td>1</td>\n",
       "      <td>5</td>\n",
       "      <td>5</td>\n",
       "      <td>0</td>\n",
       "      <td>2</td>\n",
       "      <td>17</td>\n",
       "    </tr>\n",
       "  </tbody>\n",
       "</table>\n",
       "</div>"
      ],
      "text/plain": [
       "   age  weeks_worked  hours_per_week  hourly_pay  student_status  education  \\\n",
       "0   85             0               0          -1               0         39   \n",
       "1   85             0               0          -1               0         39   \n",
       "2   15             0               0          -1               0         34   \n",
       "3   53             0               0          -1               0         39   \n",
       "4   52            52              42          -1               0         40   \n",
       "\n",
       "   marital_status  sex  military_service  race  industry  occupation  \\\n",
       "0               1    2                 2     1         0           0   \n",
       "1               1    1                 1     1         0           0   \n",
       "2               7    2                -1     1         0           0   \n",
       "3               1    2                 2     1         0           0   \n",
       "4               1    1                 2     1         5           5   \n",
       "\n",
       "   is_paid_by_hour  person_record  income  \n",
       "0                0              2       4  \n",
       "1                0              2      10  \n",
       "2                0              2       1  \n",
       "3                0              2       5  \n",
       "4                0              2      17  "
      ]
     },
     "execution_count": 14,
     "metadata": {},
     "output_type": "execute_result"
    }
   ],
   "source": [
    "df = data[list(cols.keys())]\n",
    "df.columns = list(cols.values())\n",
    "df.head()"
   ]
  },
  {
   "cell_type": "markdown",
   "id": "4d9cb641-b7cc-433f-9b2c-05939cf018c1",
   "metadata": {},
   "source": [
    "## Data set pre-processing "
   ]
  },
  {
   "cell_type": "code",
   "execution_count": 15,
   "id": "d054bdcb-0f35-413f-8ddb-634bc30a84bb",
   "metadata": {},
   "outputs": [],
   "source": [
    "# filter out children / anyone younger than 18\n",
    "df = df[(df.person_record != 1) & (df.age >= 18)]"
   ]
  },
  {
   "cell_type": "code",
   "execution_count": 16,
   "id": "a36d3fab",
   "metadata": {},
   "outputs": [
    {
     "data": {
      "text/plain": [
       "(109367, 15)"
      ]
     },
     "execution_count": 16,
     "metadata": {},
     "output_type": "execute_result"
    }
   ],
   "source": [
    "df.shape"
   ]
  },
  {
   "cell_type": "markdown",
   "id": "9abe7cdc-81fa-4e39-ab6a-6e0a7604b2e2",
   "metadata": {},
   "source": [
    "The income response (PTOT_R/income) as described in the data dictionary consists of 42 'buckets'\n",
    "\n",
    "The first bucket (0) corresponds to no income. Buckets 1-40 are increments of \\\\$5,000. The final bucket is all incomes > \\\\$100,000. You can see this bucket has many entries because incomes are in reality very right skrewed with have a long tail."
   ]
  },
  {
   "cell_type": "code",
   "execution_count": 17,
   "id": "4858b432-330d-4f9a-bf06-6ca42ea0001b",
   "metadata": {},
   "outputs": [
    {
     "data": {
      "image/png": "[encoded data removed]",
      "text/plain": [
       "<Figure size 640x480 with 1 Axes>"
      ]
     },
     "metadata": {},
     "output_type": "display_data"
    }
   ],
   "source": [
    "df.income.plot(kind='kde', title='Income');"
   ]
  },
  {
   "cell_type": "code",
   "execution_count": 18,
   "id": "b631ffd7-5f8d-46ad-87b7-3439c5de2721",
   "metadata": {},
   "outputs": [
    {
     "data": {
      "image/png": "[encoded data removed]",
      "text/plain": [
       "<Figure size 640x480 with 1 Axes>"
      ]
     },
     "metadata": {},
     "output_type": "display_data"
    }
   ],
   "source": [
    "df.income.plot(kind='hist', title='Income');"
   ]
  },
  {
   "cell_type": "markdown",
   "id": "22fbcd03-844a-42da-93ad-c0932d921a31",
   "metadata": {},
   "source": [
    "**Simulate incomes**\n",
    "\n",
    "Bucket 0 has no income.\n",
    "\n",
    "For each observation buckets 1-40 we sample from a uniform distribution that spans the bucket's range.\n",
    "\n",
    "For the final bucket (41) we use an exponential distribution. This gives us something that looks more like what we think the true income distribution looks like."
   ]
  },
  {
   "cell_type": "code",
   "execution_count": 19,
   "id": "8689a379-49cf-4f01-82a1-abd804d513e7",
   "metadata": {},
   "outputs": [],
   "source": [
    "def income_convert(label):\n",
    "    if label == 0:\n",
    "        income = 0\n",
    "    elif label == 41:\n",
    "        # filthy rich people in the tail\n",
    "        income = 100_000 + 5_000 * np.random.exponential(scale=2.5)\n",
    "    else:\n",
    "        interval = 2500\n",
    "        income = np.random.uniform((label-1)*interval, label*interval-1)\n",
    "        income = np.round(income, 2)\n",
    "    return income"
   ]
  },
  {
   "cell_type": "markdown",
   "id": "8cf7177e-bd09-431e-90ef-a0ff968364b7",
   "metadata": {},
   "source": [
    "Subset predictors for our $X$ and use sampling to make response $y$ more continuous."
   ]
  },
  {
   "cell_type": "code",
   "execution_count": 20,
   "id": "12374f06-0330-4d30-819c-9c18639b3763",
   "metadata": {},
   "outputs": [],
   "source": [
    "np.random.seed(109)\n",
    "df[response] = df[response].apply(income_convert)"
   ]
  },
  {
   "cell_type": "code",
   "execution_count": 21,
   "id": "fee31d38-c3f6-4332-8250-fe816099749d",
   "metadata": {},
   "outputs": [
    {
     "data": {
      "image/png": "[encoded data removed]",
      "text/plain": [
       "<Figure size 640x480 with 1 Axes>"
      ]
     },
     "metadata": {},
     "output_type": "display_data"
    }
   ],
   "source": [
    "plt.hist(df[response])\n",
    "ax = plt.gca()\n",
    "ax.set_xlabel('Simulated Income')\n",
    "ax.set_ylabel('Count');"
   ]
  },
  {
   "cell_type": "markdown",
   "id": "43b4f035",
   "metadata": {
    "tags": []
   },
   "source": [
    "## Reduce categorical values\n",
    "\n",
    "Since many attributes have many unique values, we merge several of them together.\n",
    "For instance, the original dataset had 26 options for race, where there were 5 unique single races, and many options for people identifying as mixed race. To deal with this complexity we decided to join all race options that were mixes between 3 or more races. This was also motivated by the relatively small amount of people identifying as belonging to these groups. \n",
    "\n",
    "This step was taken for the sake of simplicity in the homework. It is worth considering that many datasets you access have already undergone similar sorts of reduction. The difference there being that you as the end user may not know what the data looked like originally!"
   ]
  },
  {
   "cell_type": "code",
   "execution_count": 22,
   "id": "1c42926c",
   "metadata": {},
   "outputs": [],
   "source": [
    "# Colapse merge for easier interpretation\n",
    "df.loc[df['race']>= 16, 'race'] = 16\n",
    "for i in range(16):\n",
    "    df.loc[df[\"race\"]==(1+i) , 'race'] =i\n",
    "\n",
    "# covert military service to a binary variable\n",
    "df.loc[df[\"military_service\"] != 1, 'military_service' ] = 0\n",
    "# Only 2 unique values in original dataset\n",
    "# so this is not a reduction but a relabeling (1,2) -> (1,0)\n",
    "df.loc[df[\"sex\"] != 1, 'sex' ] = 0\n",
    "\n",
    "# Colapse marriage status (all married together)\n",
    "df.loc[df[\"marital_status\"] <= 3, 'marital_status'] =0\n",
    "for i in range(4):\n",
    "    df.loc[df[\"marital_status\"]==(4+i) , 'marital_status'] =i+1\n",
    "\n",
    "# Education \n",
    "# not graduated high school\n",
    "df.loc[df['education'].isin([31, 32,33,34,35, 36, 37, 38]) , 'education'] = 0\n",
    "\n",
    "# high school graduate \n",
    "df.loc[df['education'].isin([39, 40]) , 'education'] = 1\n",
    "\n",
    "# associate degree \n",
    "df.loc[df['education'].isin([41, 42]) , 'education'] = 2\n",
    "\n",
    "# Bachelor's degree (for example: BA,AB,BS)\n",
    "df.loc[df['education'].isin([43]) , 'education'] = 3\n",
    "\n",
    "# Master's degree (for example: MA,MS,MENG,MED,MSW, MBA)\n",
    "df.loc[df['education'].isin([44]) , 'education'] = 4\n",
    "\n",
    "# Professional school degree (for example: MD,DDS,DVM,LLB,JD)\n",
    "df.loc[df['education'].isin([45]) , 'education'] = 5\n",
    "\n",
    "# Doctorate degree (for example: PHD,EDD)\n",
    "df.loc[df['education'].isin([46]) , 'education'] = 6"
   ]
  },
  {
   "cell_type": "code",
   "execution_count": 23,
   "id": "aa43f28a-1f13-478b-a040-fc3d8a7c0406",
   "metadata": {},
   "outputs": [],
   "source": [
    "# no missing response values\n",
    "assert sum(df[response].isna()) == 0"
   ]
  },
  {
   "cell_type": "code",
   "execution_count": 24,
   "id": "ad8d78b6-f4cc-45df-b9a4-0dff61528111",
   "metadata": {},
   "outputs": [],
   "source": [
    "# no missing values in predictors\n",
    "assert df.isna().sum().sum() == 0"
   ]
  },
  {
   "cell_type": "code",
   "execution_count": 25,
   "id": "c4048e89",
   "metadata": {},
   "outputs": [
    {
     "name": "stdout",
     "output_type": "stream",
     "text": [
      "<class 'pandas.core.frame.DataFrame'>\n",
      "Index: 109367 entries, 0 to 144261\n",
      "Data columns (total 15 columns):\n",
      " #   Column            Non-Null Count   Dtype  \n",
      "---  ------            --------------   -----  \n",
      " 0   age               109367 non-null  int64  \n",
      " 1   weeks_worked      109367 non-null  int64  \n",
      " 2   hours_per_week    109367 non-null  int64  \n",
      " 3   hourly_pay        109367 non-null  int64  \n",
      " 4   student_status    109367 non-null  int64  \n",
      " 5   education         109367 non-null  int64  \n",
      " 6   marital_status    109367 non-null  int64  \n",
      " 7   sex               109367 non-null  int64  \n",
      " 8   military_service  109367 non-null  int64  \n",
      " 9   race              109367 non-null  int64  \n",
      " 10  industry          109367 non-null  int64  \n",
      " 11  occupation        109367 non-null  int64  \n",
      " 12  is_paid_by_hour   109367 non-null  int64  \n",
      " 13  person_record     109367 non-null  int64  \n",
      " 14  income            109367 non-null  float64\n",
      "dtypes: float64(1), int64(14)\n",
      "memory usage: 13.4 MB\n"
     ]
    },
    {
     "data": {
      "text/html": [
       "<div>\n",
       "<style scoped>\n",
       "    .dataframe tbody tr th:only-of-type {\n",
       "        vertical-align: middle;\n",
       "    }\n",
       "\n",
       "    .dataframe tbody tr th {\n",
       "        vertical-align: top;\n",
       "    }\n",
       "\n",
       "    .dataframe thead th {\n",
       "        text-align: right;\n",
       "    }\n",
       "</style>\n",
       "<table border=\"1\" class=\"dataframe\">\n",
       "  <thead>\n",
       "    <tr style=\"text-align: right;\">\n",
       "      <th></th>\n",
       "      <th>age</th>\n",
       "      <th>weeks_worked</th>\n",
       "      <th>hours_per_week</th>\n",
       "      <th>hourly_pay</th>\n",
       "      <th>student_status</th>\n",
       "      <th>education</th>\n",
       "      <th>marital_status</th>\n",
       "      <th>sex</th>\n",
       "      <th>military_service</th>\n",
       "      <th>race</th>\n",
       "      <th>industry</th>\n",
       "      <th>occupation</th>\n",
       "      <th>is_paid_by_hour</th>\n",
       "      <th>person_record</th>\n",
       "      <th>income</th>\n",
       "    </tr>\n",
       "  </thead>\n",
       "  <tbody>\n",
       "    <tr>\n",
       "      <th>0</th>\n",
       "      <td>85</td>\n",
       "      <td>0</td>\n",
       "      <td>0</td>\n",
       "      <td>-1</td>\n",
       "      <td>0</td>\n",
       "      <td>1</td>\n",
       "      <td>0</td>\n",
       "      <td>0</td>\n",
       "      <td>0</td>\n",
       "      <td>0</td>\n",
       "      <td>0</td>\n",
       "      <td>0</td>\n",
       "      <td>0</td>\n",
       "      <td>2</td>\n",
       "      <td>9028.04</td>\n",
       "    </tr>\n",
       "    <tr>\n",
       "      <th>1</th>\n",
       "      <td>85</td>\n",
       "      <td>0</td>\n",
       "      <td>0</td>\n",
       "      <td>-1</td>\n",
       "      <td>0</td>\n",
       "      <td>1</td>\n",
       "      <td>0</td>\n",
       "      <td>1</td>\n",
       "      <td>1</td>\n",
       "      <td>0</td>\n",
       "      <td>0</td>\n",
       "      <td>0</td>\n",
       "      <td>0</td>\n",
       "      <td>2</td>\n",
       "      <td>23728.07</td>\n",
       "    </tr>\n",
       "    <tr>\n",
       "      <th>3</th>\n",
       "      <td>53</td>\n",
       "      <td>0</td>\n",
       "      <td>0</td>\n",
       "      <td>-1</td>\n",
       "      <td>0</td>\n",
       "      <td>1</td>\n",
       "      <td>0</td>\n",
       "      <td>0</td>\n",
       "      <td>0</td>\n",
       "      <td>0</td>\n",
       "      <td>0</td>\n",
       "      <td>0</td>\n",
       "      <td>0</td>\n",
       "      <td>2</td>\n",
       "      <td>11747.51</td>\n",
       "    </tr>\n",
       "    <tr>\n",
       "      <th>4</th>\n",
       "      <td>52</td>\n",
       "      <td>52</td>\n",
       "      <td>42</td>\n",
       "      <td>-1</td>\n",
       "      <td>0</td>\n",
       "      <td>1</td>\n",
       "      <td>0</td>\n",
       "      <td>1</td>\n",
       "      <td>0</td>\n",
       "      <td>0</td>\n",
       "      <td>5</td>\n",
       "      <td>5</td>\n",
       "      <td>0</td>\n",
       "      <td>2</td>\n",
       "      <td>40486.23</td>\n",
       "    </tr>\n",
       "    <tr>\n",
       "      <th>5</th>\n",
       "      <td>68</td>\n",
       "      <td>0</td>\n",
       "      <td>0</td>\n",
       "      <td>-1</td>\n",
       "      <td>0</td>\n",
       "      <td>0</td>\n",
       "      <td>1</td>\n",
       "      <td>1</td>\n",
       "      <td>0</td>\n",
       "      <td>0</td>\n",
       "      <td>0</td>\n",
       "      <td>0</td>\n",
       "      <td>0</td>\n",
       "      <td>2</td>\n",
       "      <td>9436.61</td>\n",
       "    </tr>\n",
       "  </tbody>\n",
       "</table>\n",
       "</div>"
      ],
      "text/plain": [
       "   age  weeks_worked  hours_per_week  hourly_pay  student_status  education  \\\n",
       "0   85             0               0          -1               0          1   \n",
       "1   85             0               0          -1               0          1   \n",
       "3   53             0               0          -1               0          1   \n",
       "4   52            52              42          -1               0          1   \n",
       "5   68             0               0          -1               0          0   \n",
       "\n",
       "   marital_status  sex  military_service  race  industry  occupation  \\\n",
       "0               0    0                 0     0         0           0   \n",
       "1               0    1                 1     0         0           0   \n",
       "3               0    0                 0     0         0           0   \n",
       "4               0    1                 0     0         5           5   \n",
       "5               1    1                 0     0         0           0   \n",
       "\n",
       "   is_paid_by_hour  person_record    income  \n",
       "0                0              2   9028.04  \n",
       "1                0              2  23728.07  \n",
       "3                0              2  11747.51  \n",
       "4                0              2  40486.23  \n",
       "5                0              2   9436.61  "
      ]
     },
     "execution_count": 25,
     "metadata": {},
     "output_type": "execute_result"
    }
   ],
   "source": [
    "# Inspect our dataframe\n",
    "df.info()\n",
    "df.head()"
   ]
  },
  {
   "cell_type": "markdown",
   "id": "0158cc59",
   "metadata": {},
   "source": [
    "### Store the changed df in a new significantly smaller file"
   ]
  },
  {
   "cell_type": "code",
   "execution_count": 26,
   "id": "98616ac7",
   "metadata": {},
   "outputs": [],
   "source": [
    "df.to_csv(\"census_data.csv\") "
   ]
  },
  {
   "cell_type": "markdown",
   "id": "5baeba4b-bd22-4b09-b569-8f380a2fcaf5",
   "metadata": {
    "tags": []
   },
   "source": [
    "## Results\n",
    "\n",
    "- **age** - Age of person \n",
    "- **hourly_pay** - Hourly salary of person (-1 if person is not payed by the hour)\n",
    "- **hours_per_week** - Number of hours usually worked per week\n",
    "- **weeks_worked** - Number of weeks worked per year\n",
    "\n",
    "- **sex** - {'Female': 0,'Male': 1} \n",
    "- **marital_status** - {'married':0,'widowed':1,'Divorced':2, 'Separated':3,'Never married':4}\n",
    "- **military_service** - {'has not served in the US armed forces':0,'has served in the US armed forces':1}\n",
    "- **student_status** - {'Not currently studying':0,'Enrolled full-time':1, 'Enrolled part-time':1}\n",
    "- **education** - {'Not finished high school': 0, 'High school': 1, 'Associate degree': 2, 'Bachelor\\'s': 3, ,'Master\\'s': 4,'Professional school degree': 5', Doctorate': 6}\n",
    "\n",
    "- **race** - {'White': 0, 'Black': 1, 'American Indian, Alaskan Native only (AI)': 2, 'Asian': 3, ,'Hawaiian, Pacific Islander (HP)': 4,'White-Black': 5', 'White-AI': 6, 'White-Asian': 7, 'White-HP': 8, 'Black-AI': 9, 'Black-Asian': 10, 'Black-HP': 11, 'AI-Asian': 12, 'AI-HP': 13, 'Asian-HP': 14, 'other race combinations': 15}\n",
    "\n",
    "- **industry** - Industry that the person is working in {'Other': 0, 'Agriculture, forestry, fishing, hunting': 1, 'Mining': 2, 'Construction': 3, ,'Manufacturing': 4,'Wholesale and retail trade': 5','Transportation and utilities': 6, 'Information': 7, 'Financial activities': 8, 'Professional and business services': 9, 'Education and health services': 10, 'Leisure and hospitality': 11, 'Other services': 12, 'Public administration': 13, 'Armed Forces': 14}\n",
    "\n",
    "- **industry** - Industry that the person is working in {'Other': 0, 'Agriculture, forestry, fishing, hunting': 1, 'Mining': 2, 'Construction': 3, ,'Manufacturing': 4,'Wholesale and retail trade': 5','Transportation and utilities': 6, 'Information': 7, 'Financial activities': 8, 'Professional and business services': 9, 'Education and health services': 10, 'Leisure and hospitality': 11, 'Other services': 12, 'Public administration': 13, 'Armed Forces': 14}\n",
    "\n",
    "- **occupation** - Occupation of person {'Other': 0, 'Management, business, and financial occ.': 1, 'Professional and related occ.': 2, 'Service occ.': 3, ,'Sales and related occ.': 4,'Office and administrative support occ.': 5','Farming, fishing and forestry': 6, 'Construction and extraction occ.': 7, 'Installation, maintenance and repair occ.': 8, 'Production occ.': 9, 'Transportation and material moving occ.': 10, 'Armed Forces': 11}\n",
    "\n",
    "\n",
    "- **income** - Annual income in dollars"
   ]
  },
  {
   "cell_type": "code",
   "execution_count": null,
   "id": "cd8f37fc-064e-4a40-b61d-3bee2a398af4",
   "metadata": {},
   "outputs": [],
   "source": []
  }
 ],
 "metadata": {
  "jupytext": {
   "formats": "ipynb,md:myst"
  },
  "kernelspec": {
   "display_name": "venv313",
   "language": "python",
   "name": "python3"
  },
  "language_info": {
   "codemirror_mode": {
    "name": "ipython",
    "version": 3
   },
   "file_extension": ".py",
   "mimetype": "text/x-python",
   "name": "python",
   "nbconvert_exporter": "python",
   "pygments_lexer": "ipython3",
   "version": "3.13.7"
  }
 },
 "nbformat": 4,
 "nbformat_minor": 5
}
