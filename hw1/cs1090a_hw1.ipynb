{
 "cells": [
  {
   "cell_type": "code",
   "execution_count": 1,
   "id": "fb6eb141",
   "metadata": {
    "deletable": false,
    "editable": false
   },
   "outputs": [],
   "source": [
    "# Initialize Otter\n",
    "import otter\n",
    "grader = otter.Notebook(\"cs1090a_hw1.ipynb\")"
   ]
  },
  {
   "cell_type": "markdown",
   "id": "7e3f31b6-e021-4842-b0ac-5fca2c0b4e92",
   "metadata": {},
   "source": [
    "# <img style=\"float: left; padding-right: 10px; width: 45px\" src=\"https://raw.githubusercontent.com/Harvard-IACS/2018-CS109A/master/content/styles/iacs.png\"> CS1090A Introduction to Data Science\n",
    "## Homework 1: Webscraping, Pandas, and EDA\n",
    "\n",
    "**Harvard University**<br/>\n",
    "**Fall 2025**<br/>\n",
    "**Instructors**: Pavlos Protopapas, Kevin Rader, and Chris Gumb\n",
    "\n",
    "<hr style=\"height:2.4pt\">"
   ]
  },
  {
   "cell_type": "code",
   "execution_count": 2,
   "id": "0a6edac1-4b76-49be-8c7b-c67fc4dc959d",
   "metadata": {},
   "outputs": [],
   "source": [
    "import requests\n",
    "from bs4 import BeautifulSoup\n",
    "import numpy as np\n",
    "import pandas as pd\n",
    "import pyarrow as pa # optional\n",
    "import seaborn as sns\n",
    "import matplotlib.pyplot as plt\n",
    "import re\n",
    "import io\n",
    "import os.path\n",
    "import json\n",
    "import time\n",
    "import glob\n",
    "import asyncio # optional\n",
    "import aiohttp # optional\n",
    "from IPython.core.display import HTML\n",
    "from IPython import display\n",
    "\n",
    "import wikipedia\n",
    "import pandas as pd\n",
    "from concurrent.futures import ThreadPoolExecutor\n",
    "import asyncio\n",
    "from collections import defaultdict"
   ]
  },
  {
   "cell_type": "code",
   "execution_count": 3,
   "id": "0bc3ec48-8dcd-4da4-b996-e2142edabd96",
   "metadata": {},
   "outputs": [],
   "source": [
    "# For calculating total notebook runtime\n",
    "notebook_start = time.time()"
   ]
  },
  {
   "cell_type": "code",
   "execution_count": 4,
   "id": "5cf897cf-d166-44a9-b2cb-f25dfaf0ed46",
   "metadata": {},
   "outputs": [
    {
     "data": {
      "text/html": [
       "<style>\n",
       "h3, h4 {\n",
       "    background-color: #7efcf5;\n",
       "    border-left: 5px solid #7ec4fc;\n",
       "    border-right: 5px solid #7ec4fc;\n",
       "    padding: 0em;\n",
       "}\n",
       "h3 {\n",
       "    background-color: #7efcf5;\n",
       "    border-top: 5px solid #7ec4fc;\n",
       "    border-left: 5px solid #7ec4fc;\n",
       "    border-right: 5px solid #7ec4fc;\n",
       "    padding: 0.5em;\n",
       "}\n",
       "p {\n",
       "    padding: 0.5em;\n",
       "    max-width: 34em;\n",
       "    font-weight:400;\n",
       "}\n",
       ".md {\n",
       "    max-width: 80ch;\n",
       "\n",
       "}\n",
       ".prompt {    \n",
       "    background-color: lightgreen;\n",
       "    border-color: #dFb5b4;\n",
       "    border-left: 5px solid #f57efc;\n",
       "    padding: 0.5em;\n",
       "    font-weight:500;\n",
       "    }\n",
       " </style>"
      ],
      "text/plain": [
       "<IPython.core.display.HTML object>"
      ]
     },
     "execution_count": 4,
     "metadata": {},
     "output_type": "execute_result"
    }
   ],
   "source": [
    "style = '''<style>\n",
    "h3, h4 {\n",
    "    background-color: #7efcf5;\n",
    "    border-left: 5px solid #7ec4fc;\n",
    "    border-right: 5px solid #7ec4fc;\n",
    "    padding: 0em;\n",
    "}\n",
    "h3 {\n",
    "    background-color: #7efcf5;\n",
    "    border-top: 5px solid #7ec4fc;\n",
    "    border-left: 5px solid #7ec4fc;\n",
    "    border-right: 5px solid #7ec4fc;\n",
    "    padding: 0.5em;\n",
    "}\n",
    "p {\n",
    "    padding: 0.5em;\n",
    "    max-width: 34em;\n",
    "    font-weight:400;\n",
    "}\n",
    ".md {\n",
    "    max-width: 80ch;\n",
    "\n",
    "}\n",
    ".prompt {    \n",
    "    background-color: lightgreen;\n",
    "    border-color: #dFb5b4;\n",
    "    border-left: 5px solid #f57efc;\n",
    "    padding: 0.5em;\n",
    "    font-weight:500;\n",
    "    }\n",
    " </style>'''\n",
    "HTML(style)"
   ]
  },
  {
   "cell_type": "markdown",
   "id": "e36ef44b-e503-42a2-8dee-44e1d8bbbbf3",
   "metadata": {},
   "source": [
    "## Assignment Overview\n",
    "\n",
    "You'll be working with data from screenboston.com, a website that aggregates movie screenings from various theaters in the Boston area. Your task is to collect this data, enrich it with information from Wikipedia, and then analyze and visualize the results.\n",
    "\n",
    "## Assignment Structure\n",
    "\n",
    "The assignment is divided into 8 main questions, each building upon the previous ones, followed by a wrap-up:\n",
    "\n",
    "1. Fetching HTML from screenboston.com (10 pts)\n",
    "2. Parsing HTML into structured data (15 pts)\n",
    "3. Augmenting data with historical snapshots (15 pts)\n",
    "4. Creating and manipulating a Pandas DataFrame (15 pts)\n",
    "5. Initial exploratory data analysis and visualization (15 pts)\n",
    "6. Finding Wikipedia pages for each screened film (7 pts)\n",
    "7. Storing Wikipedia HTML in the DataFrame (3 pts)\n",
    "8. Extracting and analyzing data from Wikipedia pages (15 pts)\n",
    "9. Wrap-up (5 pts)\n",
    "\n",
    "As you progress through these steps, you'll be transforming raw web data into a rich dataset ready for analysis. By the end, you'll have created a comprehensive overview of Boston's movie screening landscape, potentially uncovering interesting trends and patterns in the process. "
   ]
  },
  {
   "cell_type": "markdown",
   "id": "4d85b37d-d1b3-4575-971c-06c6006578eb",
   "metadata": {},
   "source": [
    "<div style = \"background: lightgreen; border: thin solid black; border-radius: 2px; padding: 5px\">\n",
    "\n",
    "### Instructions\n",
    "- To submit your notebook, follow the instructions given in on the Canvas assignment page.\n",
    "- Plots should be legible and interpretable *without having to refer to the code that generated them*. They should include labels for the $x$- and $y$-axes as well as a descriptive title and/or legend when appropriate.\n",
    "- When asked to interpret a visualization, do not simply describe it (e.g., \"the curve has a steep slope up\"), but instead explain what you believe the plot *means*.\n",
    "- Autograding tests are mostly to help you debug. The tests are not exhaustive so simply passing all tests may not be sufficient for full credit.\n",
    "- The use of *extremely* inefficient or error-prone code (e.g., copy-pasting nearly identical commands rather than looping) may result in only partial credit.\n",
    "- We have tried to include all the libraries you may need to do the assignment in the imports cell provided below. Please get course staff approval before importing any additional 3rd party libraries.\n",
    "- Enable scrolling output on cells with very long output. Or better yet, avoid overly long output altogether.\n",
    "- Feel free to add additional code or markdown cells as needed.\n",
    "- Don't forget to include a written response when one is requested by a question prompt.\n",
    "- Ensure your code runs top to bottom without error and passes all tests by restarting the kernel and running all cells (note that this can take a few minutes). \n",
    "- **You should do a \"Restart Kernel and Run All Cells\" before submitting to ensure (1) your notebook actually runs and (2) all output is visible**\n",
    "</div>"
   ]
  },
  {
   "cell_type": "markdown",
   "id": "4c06254d-bdbc-44e3-8c98-cdda42b0aab5",
   "metadata": {
    "deletable": false,
    "editable": false
   },
   "source": [
    "\n",
    "<div class=md>\n",
    "<h3>1. Getting HTML from screenboston.com</h3>\n",
    "\n",
    "<p>Our first step is to get the HTML content from the page at screenboston.com for analysis. To avoid having to make unnecessary future requests, you should write the content to disk.</p>\n",
    "\n",
    "\n",
    "\n",
    "<div class=prompt>\n",
    "    \n",
    "1. Use the `requests` library to get the html located at screenboston.com.\n",
    "1. Save it in the file `data/html/screenboston.html`.\n",
    "\n",
    "**Your code should only make an HTTP request if the file does not already exist.** \n",
    "\n",
    "**Hint:** the `os.path.isfile()` function can be used check if a file exists.\n",
    "</div>\n",
    "</div>\n"
   ]
  },
  {
   "cell_type": "code",
   "execution_count": null,
   "id": "b0c2f172-b4f3-49c7-8544-cdf6ae0e33b9",
   "metadata": {
    "scrolled": true,
    "tags": [
     "otter_answer_cell"
    ]
   },
   "outputs": [],
   "source": [
    "out_path = \"./data/html/screenboston.html\"\n",
    "\n",
    "# Create the directory if it does not exist\n",
    "os.makedirs(os.path.dirname(out_path), exist_ok=True)\n",
    "\n",
    "# Check if the file already exists\n",
    "if not os.path.isfile(out_path):\n",
    "    # If not, download the HTML from the URL\n",
    "    url = \"http://screenboston.com\"\n",
    "    response = requests.get(url)\n",
    "    response.raise_for_status()  # Ensure the request was successful\n",
    "\n",
    "    # Save the content to the file, specifying utf-8 encoding\n",
    "    with open(out_path, \"w\", encoding=\"utf-8\") as f:\n",
    "        f.write(response.text)\n",
    "\n",
    "# Read the HTML content from the file into the 'html' variable\n",
    "with open(out_path, \"r\", encoding=\"utf-8\") as f:\n",
    "    html = f.read()"
   ]
  },
  {
   "cell_type": "code",
   "execution_count": 30,
   "id": "c01ea31b",
   "metadata": {
    "deletable": false,
    "editable": false
   },
   "outputs": [
    {
     "data": {
      "text/html": [
       "<p><strong><pre style='display: inline;'>q1</pre></strong> passed! 🚀</p>"
      ],
      "text/plain": [
       "q1 results: All test cases passed!"
      ]
     },
     "execution_count": 30,
     "metadata": {},
     "output_type": "execute_result"
    }
   ],
   "source": [
    "grader.check(\"q1\")"
   ]
  },
  {
   "cell_type": "markdown",
   "id": "06e2b4b1-3614-4d82-8f58-4e4a49168b31",
   "metadata": {
    "deletable": false,
    "editable": false
   },
   "source": [
    "<div class=md>\n",
    "<h3>2. Parsing HTML into an Efficient Data Structure</h3>\n",
    "\n",
    "<p>Were you to open this HTML file in an editor, you'd find it wouldn't make for light reading.\n",
    "There's a lot of text in there, but we're currently only interested in a small portion of it. Thankfully, this small portion's constituant occurances appear in a mostly predictable way.\n",
    "</p>\n",
    "\n",
    "<div class='prompt'>\n",
    "1. Parse the HTML page to produce an iterable of dictionaries called <code>movies</code>. Here is one possible example:\n",
    "<div style=\"max-width:30em;padding:1em\">\n",
    "    \n",
    "```python\n",
    "{'title': 'Monty Python and the Holy Grail',\n",
    " 'directors': 'Terry Jones, Terry Gilliam',\n",
    " 'year': 1975,\n",
    " 'genre': 'Adventure',\n",
    " 'runtime': '1h 31m',\n",
    " 'theater': 'Coolidge Corner Theater',\n",
    " 'screen_date': '2024-08-17'\n",
    " 'screen_times': '11:59 PM'}\n",
    "```\n",
    "</div>\n",
    "\n",
    "2. Report the number of dictionaries in your iterable.\n",
    "3. Display an example dictionary.\n",
    "</div>\n",
    "\n",
    "<p>\n",
    "<b>One possible approach:</b> leveraging the structure of the page, use BeautifulSoup to divide it into disjoint peices of the HTML tree, each containing the set of information outlined above for each title's screening date at a given theater. Each peice is processed by a helper function(s) which extracts the desired fields and assemples them into a dictionary. These dictionaries are then accumulated in some iterable such as a list.\n",
    "</p>\n",
    "\n",
    "**Hints:**\n",
    "- Your browser's 'inspect' tool is very useful for exploring a page's structure.\n",
    "- To maintain a uniform set of keys across all movie dictionaries, use the plural 'directors' even for movies which attribute only a single director. \n",
    "</div>\n",
    "</div>"
   ]
  },
  {
   "cell_type": "code",
   "execution_count": null,
   "id": "fd237053-2e4d-4081-9d70-6281d7b73e97",
   "metadata": {
    "scrolled": true,
    "tags": [
     "otter_answer_cell"
    ]
   },
   "outputs": [
    {
     "data": {
      "text/plain": [
       "95"
      ]
     },
     "execution_count": 44,
     "metadata": {},
     "output_type": "execute_result"
    }
   ],
   "source": [
    "\n",
    "soup = BeautifulSoup(html, \"html.parser\")\n",
    "\n",
    "def norm(s):\n",
    "    return re.sub(r\"\\s+\", \" \", (s or \"\").strip())\n",
    "\n",
    "def parse_details(s): \n",
    "    parts = [p.strip() for p in s.split(\",\")]\n",
    "    year = int(re.search(r\"\\d{4}\", parts[0]).group()) if parts else None\n",
    "    genre = parts[1] if len(parts) > 1 else \"\"\n",
    "    runtime = parts[2] if len(parts) > 2 else \"\"\n",
    "    return year, genre, runtime\n",
    "\n",
    "movies = []\n",
    "\n",
    "# id=\"YYYY-MM-DD\"\n",
    "for day in soup.select('div.max-w-screen[id]'):\n",
    "    m = re.match(r\"\\d{4}-\\d{2}-\\d{2}\", day.get(\"id\",\"\"))\n",
    "    if not m:\n",
    "        continue\n",
    "    screen_date = m.group(0)\n",
    "\n",
    "    for card in day.select(\"button\"):\n",
    "        title_tag = card.select_one(\"p.big\")\n",
    "        if not title_tag:\n",
    "            continue\n",
    "        title = norm(title_tag.get_text())\n",
    "\n",
    "        info_blocks = card.select(\"div.flex.child\\\\:flex-1 div\")\n",
    "        if len(info_blocks) < 2:\n",
    "            continue\n",
    "\n",
    "        p_tags_left = info_blocks[0].find_all(\"p\")\n",
    "        if len(p_tags_left) < 2:\n",
    "            continue\n",
    "        directors = norm(p_tags_left[0].get_text())\n",
    "        year, genre, runtime = parse_details(norm(p_tags_left[1].get_text()))\n",
    "\n",
    "        # right block: theater + times\n",
    "        theater = norm(info_blocks[1].find(\"p\").get_text())\n",
    "        times = [norm(p.get_text()) for p in info_blocks[1].select(\"div.flex p\")]\n",
    "        screen_times = \", \".join([t for t in times if t])\n",
    "\n",
    "        movies.append({\n",
    "            \"title\": title,\n",
    "            \"directors\": directors,   # always plural key\n",
    "            \"year\": year,\n",
    "            \"genre\": genre,\n",
    "            \"runtime\": runtime,     \n",
    "            \"theater\": theater,\n",
    "            \"screen_date\": screen_date,   # ISO date from the day-section id\n",
    "            \"screen_times\": screen_times\n",
    "        })\n",
    "\n",
    "len(movies)"
   ]
  },
  {
   "cell_type": "code",
   "execution_count": 45,
   "id": "f8c28617",
   "metadata": {
    "deletable": false,
    "editable": false
   },
   "outputs": [
    {
     "data": {
      "text/html": [
       "<p><strong><pre style='display: inline;'>q2</pre></strong> passed! 🎉</p>"
      ],
      "text/plain": [
       "q2 results: All test cases passed!"
      ]
     },
     "execution_count": 45,
     "metadata": {},
     "output_type": "execute_result"
    }
   ],
   "source": [
    "grader.check(\"q2\")"
   ]
  },
  {
   "cell_type": "markdown",
   "id": "cfcacef4-c29f-4743-8811-45064c7a0357",
   "metadata": {
    "deletable": false,
    "editable": false
   },
   "source": [
    "<div class=md>\n",
    "    <h3>3. Adding Historical Data: Snapshots from the Internet Archive's Wayback Machine</h3>\n",
    "<p>\n",
    "The screenboston.com page only shows screenings scheduled from the current day until about 2-4 weeks into the future.\n",
    "Using the <a href=\"http://web.archive.org/\">Wayback Machine</a>, we can augment our dataset with past snapshots of the page  \n",
    "</p>\n",
    "\n",
    "<p>\n",
    "Rather than clicking around to download each snapshot manually, we should again acquire our pages programmatically using <code>requests</code>. The Internet Archive offers an <a href='https://archive.org/help/wayback_api.php'>API</a> where you can specify a URL and timestamp and receive a JSON object which contains a new URL to a snapshot of the desired page nearest to the provided timestamp. You can then use <code>requests</code> again to acquire the HTML of this snapshot.\n",
    "</p>\n",
    "    \n",
    "<div class=prompt>\n",
    "\n",
    "1. Acquire enough snapshots to cover all days from Jan through September 2024 for which there exists data. \n",
    "For simplicity we'll assume that any well-formed screenboston.com page will cover at least through the end of that month and that a day's schedule won't change once displayed.\n",
    "2. Write each snapshot's HTML content to disk in the `/data/html` directory using filenames of the form `'snapshot_YYYYMMDD.html'`. Your code should only make requests if no local snapshot files already exist.\n",
    "3. Using your parsing function from the previous section, add movie dictionaries extracted from all the snapshots to your list, `movies`. Save this list of dictionaries as 'data/movies.json'. You should only perform the parsing if the JSON file does not already exist. Don't worry about any duplicate movie screenings in your list at this point.\n",
    "\n",
    "</div>\n",
    "\n",
    "**Hints:**\n",
    "- When retrieving JSON content with <code>requests</code>, us the `json()` method rather than the `text` attribute to extract the content from the returned request object into a nested dictionary rather than a string.\n",
    "- APIs often take parameters as key-value pairs occuring after a '?' character in the URL. For example 'http://archive.org/wayback/available?url=example.com&timestamp=20060101' includes a 'url' and a 'timestamp' parameter. When using <code>requests.get()</code> you can exclude these parameters from the URL itself and instead pass them as a dictionary to an argument called 'params'.\n",
    "- Use <code>json.dump()</code> and <code>json.load()</code> from the imported <code>json</code> module for writing and reading JSON content."
   ]
  },
  {
   "cell_type": "code",
   "execution_count": null,
   "id": "e0cba772-70ea-40c6-abaa-ff20025c7cf3",
   "metadata": {
    "tags": [
     "otter_answer_cell"
    ]
   },
   "outputs": [],
   "source": [
    "# Wayback API endpoint and target site\n",
    "WAYBACK = \"http://archive.org/wayback/available\"\n",
    "TARGET = \"https://screenboston.com\"\n",
    "HTML_DIR = \"data/html\"\n",
    "\n",
    "# create folder if not already there\n",
    "if not os.path.exists(HTML_DIR):\n",
    "    os.makedirs(HTML_DIR)\n",
    "\n",
    "def save_snapshot(ts):\n",
    "    # ts format: YYYYMMDD\n",
    "    out_path = os.path.join(HTML_DIR, f\"snapshot_{ts}.html\")\n",
    "    if os.path.exists(out_path):\n",
    "        return\n",
    "    \n",
    "    # ask Wayback API for a snapshot\n",
    "    try:\n",
    "        resp = requests.get(WAYBACK, params={\"url\": TARGET, \"timestamp\": ts}, timeout=20)\n",
    "        j = resp.json()\n",
    "    except Exception:\n",
    "        return\n",
    "    \n",
    "    # get url\n",
    "    snap = j.get(\"archived_snapshots\", {}).get(\"closest\", {})\n",
    "    url = snap.get(\"url\")\n",
    "    if not url:\n",
    "        return\n",
    "    \n",
    "    # download the snapshot page\n",
    "    try:\n",
    "        page = requests.get(url, timeout=30)\n",
    "        html = page.text\n",
    "    except Exception:\n",
    "        return\n",
    "    \n",
    "    # write html to file\n",
    "    with open(out_path, \"w\", encoding=\"utf-8\") as f:\n",
    "        f.write(html)\n",
    "\n",
    "# pick one date \n",
    "months = [f\"2024{m:02d}15\" for m in range(1, 10)]\n",
    "for ts in months:\n",
    "    try:\n",
    "        save_snapshot(ts)\n",
    "    except Exception:\n",
    "        pass\n",
    "    time.sleep(0.3)\n"
   ]
  },
  {
   "cell_type": "code",
   "execution_count": null,
   "id": "b4a0cfad-0b4a-49de-9660-c5b3cff54e69",
   "metadata": {
    "scrolled": true,
    "tags": [
     "otter_answer_cell"
    ]
   },
   "outputs": [
    {
     "name": "stdout",
     "output_type": "stream",
     "text": [
      "num_movies: 597\n",
      "example: {'title': 'M*A*S*H', 'directors': 'Robert Altman', 'year': 1970, 'genre': 'Comedy', 'runtime': '1h 56m', 'theater': 'Coolidge Corner Theatre', 'screen_date': '2025-09-22', 'screen_times': '7:00 PM'}\n"
     ]
    }
   ],
   "source": [
    "def norm(s):\n",
    "    # collapse whitespace\n",
    "    return re.sub(r\"\\s+\", \" \", (s or \"\").strip())\n",
    "\n",
    "GENRES = [\"Comedy\",\"Drama\",\"Horror\",\"Sci-Fi\",\"SciFi\",\"Science Fiction\",\"Romance\",\n",
    "          \"Documentary\",\"Action\",\"Thriller\",\"Fantasy\",\"Animation\",\"Crime\",\"Mystery\",\n",
    "          \"Adventure\",\"Musical\",\"War\",\"Western\",\"Biography\",\"History\",\"Family\",\"Noir\"]\n",
    "\n",
    "def parse_details(s: str):\n",
    "    tks = [t.strip() for t in (s or \"\").split(\",\") if t.strip()]\n",
    "    year, genre, runtime = None, \"\", \"\"\n",
    "    # year anywhere\n",
    "    for i, tok in enumerate(tks):\n",
    "        m = re.search(r\"\\b(19|20)\\d{2}\\b\", tok)\n",
    "        if m: year = int(m.group(0)); y_idx = i; break\n",
    "    else:\n",
    "        y_idx = None\n",
    "    # genre near year first, else anywhere\n",
    "    if y_idx is not None:\n",
    "        for j in range(y_idx+1, min(y_idx+4, len(tks))):\n",
    "            if any(re.search(rf\"\\b{re.escape(g)}\\b\", tks[j], re.I) for g in GENRES):\n",
    "                genre = tks[j]; break\n",
    "    if not genre:\n",
    "        for tok in tks:\n",
    "            if any(re.search(rf\"\\b{re.escape(g)}\\b\", tok, re.I) for g in GENRES):\n",
    "                genre = tok; break\n",
    "    # runtime anywhere\n",
    "    for tok in tks:\n",
    "        if re.search(r\"\\d+\\s*h(\\s*\\d+\\s*m)?|\\b\\d+\\s*m(in)?\\b\", tok, re.I):\n",
    "            runtime = tok; break\n",
    "    return year, genre, runtime\n",
    "\n",
    "def parse_movies_from_html(html_text):\n",
    "    # extract movie dicts from the given HTML\n",
    "    soup = BeautifulSoup(html_text, \"html.parser\")\n",
    "    out = []\n",
    "    \n",
    "    # day sections use id=\"YYYY-MM-DD\"\n",
    "    for day in soup.select('div[id]'):\n",
    "        day_id = day.get(\"id\", \"\")\n",
    "        m = re.match(r\"\\d{4}-\\d{2}-\\d{2}\", day_id)\n",
    "        if not m:\n",
    "            continue\n",
    "        screen_date = m.group(0)\n",
    "        \n",
    "        # each screening is typically inside <button>\n",
    "        for card in day.select(\"button\"):\n",
    "            # title\n",
    "            title_tag = card.select_one(\"p.big\") or card.find([\"h3\", \"h2\", \"strong\"])\n",
    "            if not title_tag: \n",
    "                continue\n",
    "            title = norm(title_tag.get_text())\n",
    "            if not title:\n",
    "                continue\n",
    "\n",
    "            # choose blocks that look like \"left info\" and \"right info\"\n",
    "            info_blocks = card.select(\"div\")\n",
    "            left, right = None, None\n",
    "            divs_with_p = [d for d in info_blocks if d.find(\"p\")]\n",
    "            if len(divs_with_p) >= 2:\n",
    "                left, right = divs_with_p[0], divs_with_p[1]\n",
    "            else:\n",
    "                left = card  # fallback\n",
    "\n",
    "            # directors + year, genre, runtime + theater + times\n",
    "            directors, year, genre, runtime, theater, screen_times = \"\", None, \"\", \"\", \"\", \"\"\n",
    "            try:\n",
    "                # collect all <p> text in order\n",
    "                p_texts = [norm(p.get_text()) for p in card.find_all(\"p\") if norm(p.get_text())]\n",
    "                details = None\n",
    "                for t in p_texts:\n",
    "                    if re.search(r\"\\b(19|20)\\d{2}\\b\", t) and re.search(r\"\\b(\\d+h|\\d+\\s*m(in)?\\b)\", t, re.I):\n",
    "                        details = t; break\n",
    "                if details:\n",
    "                    y,g,r = parse_details(details); year,genre,runtime = y,g,r\n",
    "                    # director: nearest <p> above details that's not title/time\n",
    "                    idx = p_texts.index(details)\n",
    "                    for prev in reversed(p_texts[:idx]):\n",
    "                        if prev != title and not re.search(r\"\\b(AM|PM)\\b\", prev):\n",
    "                            directors = prev; break\n",
    "                    # theater: first <p> after details that looks like a venue\n",
    "                    for nxt in p_texts[idx+1:]:\n",
    "                        if re.search(r\"Theatre|Theater|Archive|Cinema|Museum|Brattle|Coolidge|Capitol|Embassy|West Newton\", nxt, re.I):\n",
    "                            theater = nxt; break\n",
    "                    # times\n",
    "                    times = [t for t in p_texts[idx+1:] if re.search(r\"\\b\\d{1,2}:\\d{2}\\s*(AM|PM)\\b\", t)]\n",
    "                    screen_times = \", \".join(times)\n",
    "\n",
    "                # --- Fallback ---\n",
    "                if (not year or not runtime or not theater):\n",
    "                    pat = rf'theater:\"([^\"]+?)\".+?movies:\\{{[^}}]*title:\"{re.escape(title)}\"[^}}]*year:(\\d+)[^}}]*runtime:(\\d+)[^}}]*\\}}'\n",
    "                    m = re.search(pat, html_text, flags=re.DOTALL)\n",
    "                    if m:\n",
    "                        if not theater: theater = m.group(1)\n",
    "                        if not year: year = int(m.group(2))\n",
    "                        if not runtime:\n",
    "                            rt = int(m.group(3)); runtime = f\"{rt//60}h {rt%60}m\"\n",
    "            except Exception:\n",
    "                pass\n",
    "\n",
    "            entry = {\n",
    "                \"title\": title,\n",
    "                \"directors\": directors,\n",
    "                \"year\": year,\n",
    "                \"genre\": genre,\n",
    "                \"runtime\": runtime,\n",
    "                \"theater\": theater,\n",
    "                \"screen_date\": screen_date,\n",
    "                \"screen_times\": screen_times\n",
    "            }\n",
    "            out.append(entry)\n",
    "    return out\n",
    "\n",
    "movies = []\n",
    "\n",
    "# parse live page if available\n",
    "live_path = \"data/html/screenboston.html\"\n",
    "if os.path.exists(live_path):\n",
    "    with open(live_path, \"r\", encoding=\"utf-8\", errors=\"ignore\") as f:\n",
    "        html = f.read()\n",
    "    movies.extend(parse_movies_from_html(html))\n",
    "\n",
    "# parse all snapshots\n",
    "snapshots = sorted([fn for fn in os.listdir(\"data/html\") if fn.startswith(\"snapshot_\") and fn.endswith(\".html\")])\n",
    "for fn in snapshots:\n",
    "    fp = os.path.join(\"data/html\", fn)\n",
    "    try:\n",
    "        with open(fp, \"r\", encoding=\"utf-8\", errors=\"ignore\") as f:\n",
    "            html = f.read()\n",
    "        movies.extend(parse_movies_from_html(html))\n",
    "    except Exception:\n",
    "        continue\n",
    "\n",
    "# save to JSON\n",
    "if not os.path.exists(\"data\"):\n",
    "    os.makedirs(\"data\")\n",
    "with open(\"data/movies.json\", \"w\", encoding=\"utf-8\") as f:\n",
    "    json.dump(movies, f, ensure_ascii=True, indent=2)\n",
    "\n",
    "# quick check\n",
    "with open(\"data/movies.json\", \"r\") as f:\n",
    "    movies_check = json.load(f)\n",
    "\n",
    "print(\"num_movies:\", len(movies_check))\n",
    "print(\"example:\", movies_check[0] if movies_check else None)\n"
   ]
  },
  {
   "cell_type": "code",
   "execution_count": null,
   "id": "00c000d1-37c3-4b59-b557-4ce6ffb8a8f2",
   "metadata": {
    "deletable": false,
    "editable": false
   },
   "outputs": [
    {
     "name": "stdout",
     "output_type": "stream",
     "text": [
      "Snapshots:\n",
      "['html\\\\snapshot_20240115.html', 'html\\\\snapshot_20240215.html', 'html\\\\snapshot_20240315.html', 'html\\\\snapshot_20240415.html', 'html\\\\snapshot_20240515.html', 'html\\\\snapshot_20240615.html', 'html\\\\snapshot_20240715.html', 'html\\\\snapshot_20240815.html', 'html\\\\snapshot_20240915.html']\n",
      "Found 597 movie entries across all HTML files.\n"
     ]
    }
   ],
   "source": [
    "# Display snapshots and results\n",
    "print(f\"Snapshots:\")\n",
    "print([f.split('/')[-1] for f in glob.glob('data/html/snapshot_*')])\n",
    "print(f\"Found {len(movies)} movie entries across all HTML files.\")"
   ]
  },
  {
   "cell_type": "code",
   "execution_count": 117,
   "id": "f7541671",
   "metadata": {
    "deletable": false,
    "editable": false
   },
   "outputs": [
    {
     "data": {
      "text/html": [
       "<p><strong><pre style='display: inline;'>q3</pre></strong> passed! 🌈</p>"
      ],
      "text/plain": [
       "q3 results: All test cases passed!"
      ]
     },
     "execution_count": 117,
     "metadata": {},
     "output_type": "execute_result"
    }
   ],
   "source": [
    "grader.check(\"q3\")"
   ]
  },
  {
   "cell_type": "markdown",
   "id": "1e227fb9-5645-4086-b89e-fda1afa80d19",
   "metadata": {
    "deletable": false,
    "editable": false
   },
   "source": [
    "<div class=md>\n",
    "    \n",
    "<h3>4. DataFrame Creation & Manipulation</h3>\n",
    "\n",
    "Your variable `movies` is a list of dictionaries which you can use to create a Pandas DataFrame. Have our data in a DataFrame will make it much easier to analyze and manipulate.\n",
    "\n",
    "<div class=prompt>\n",
    "    \n",
    "1. Use `movies` to create a DataFrame and call it `df`\n",
    "2. Drop any **duplicate rows** and report the number of remaining rows. Here we consider duplicates to be rows in which *all* values match. The same movie screening on different days, even at the same theater, will not be considered a duplicate.\n",
    "3. Check for **nans**. If you find any nans you should report the number of nans in each column and display the rows that contain at least one nan. If there are no nans then you should display output to confirm this fact.\n",
    "4. Convert the **'screen_date'** to a Pandas `datetime` dtype and **'runtime'** to a Pandas `timedelta` dtype.\n",
    "5. Sort your `df` by ascending 'screen_date'\n",
    "</div>\n",
    "\n",
    "Your result should look something like:\n",
    "\n",
    "| title                            | directors       | year | genre  | runtime         | theater                   | screen_date | screen_times         |\n",
    "|-----------------------------------|-----------------|------|--------|-----------------|---------------------------|-------------|----------------------|\n",
    "| Ghost Dog: The Way of the Samurai | Jim Jarmusch    | 1999 | Crime  | 0 days 01:56:00 | The Brattle               | 2024-05-24  | 4:00 PM, 9:00 PM     |\n",
    "| Stray Dog                        | Akira Kurosawa  | 1949 | Crime  | 0 days 02:02:00 | The Brattle               | 2024-05-24  | 6:30 PM              |\n",
    "| Big Trouble in Little China       | John Carpenter  | 1986 | Comedy | 0 days 01:40:00 | Coolidge Corner Theatre    | 2024-05-24  | 11:59 PM             |\n",
    "| Young Frankenstein               | Mel Brooks      | 1974 | Comedy | 0 days 01:46:00 | The Brattle               | 2024-05-25  | 12:00 PM             |\n",
    "| Poetry                           | Lee Chang-dong  | 2010 | Drama  | 0 days 02:19:00 | Museum of Fine Arts        | 2024-05-25  | 2:30 PM              |\n",
    "\n",
    "**Hints:**\n",
    "- You can use the `dt.date` attribute on a datetime column to extract just the day (and ignore the time)\n",
    "- You may need to to do some string parsing on 'runtime' before coverting it to a `timedelta`\n",
    "- Pandas now supports [PyArrow](https://arrow.apache.org/docs/python/index.html) as a backend alternative to Numpy. This gives access to new datatypes including native strings (as opposed to the catch-all 'object'), ints that support NaN values, and others. Using these datatypes can often speed up computations so you may choose to experiment with converting some or all of your columns to these new datatypes. You can read more [here](https://pandas.pydata.org/docs/user_guide/pyarrow.html).\n",
    "</div>"
   ]
  },
  {
   "cell_type": "code",
   "execution_count": null,
   "id": "ad6cd265-e541-4f93-abb4-ea00287f7b08",
   "metadata": {
    "tags": [
     "otter_answer_cell"
    ]
   },
   "outputs": [
    {
     "name": "stdout",
     "output_type": "stream",
     "text": [
      "rows after dropping duplicates: 501\n",
      "NaN counts:\n",
      " title           0\n",
      "directors       0\n",
      "year            0\n",
      "genre           0\n",
      "runtime         0\n",
      "theater         0\n",
      "screen_date     0\n",
      "screen_times    0\n",
      "dtype: int64\n",
      "No NaNs found.\n",
      "Post-conversion nulls: {'screen_date': np.int64(0), 'runtime': np.int64(0)}\n",
      "                            title        directors  year       genre runtime                 theater screen_date     screen_times\n",
      "      Big Trouble in Little China   John Carpenter  1986      Comedy  1h 40m Coolidge Corner Theatre  2024-05-24         11:59 PM\n",
      "Ghost Dog: The Way of the Samurai     Jim Jarmusch  1999       Crime  1h 56m             The Brattle  2024-05-24 4:00 PM, 9:00 PM\n",
      "                        Stray Dog   Akira Kurosawa  1949       Crime   2h 2m             The Brattle  2024-05-24          6:30 PM\n",
      "                       Black Rain     Ridley Scott  1989       Drama   2h 5m Coolidge Corner Theatre  2024-05-25         11:59 PM\n",
      "                    Jour de FÃªte     Jacques Tati  1949      Comedy  1h 26m             The Brattle  2024-05-25          4:45 PM\n",
      "         Kind Hearts and Coronets     Robert Hamer  1949      Comedy  1h 44m             The Brattle  2024-05-25          2:30 PM\n",
      "                           Poetry   Lee Chang-dong  2010       Drama  2h 19m     Museum of Fine Arts  2024-05-25          2:30 PM\n",
      "                             Ring     Hideo Nakata  1998      Horror  1h 36m      Somerville Theatre  2024-05-25         11:59 PM\n",
      "                Stop Making Sense   Jonathan Demme  1984 Documentary  1h 28m             The Brattle  2024-05-25         10:00 PM\n",
      "              Thomasine & Bushrod Gordon Parks Jr.  1974     Western  1h 35m             The Brattle  2024-05-25          7:00 PM\n"
     ]
    }
   ],
   "source": [
    "df = pd.DataFrame(movies)\n",
    "\n",
    "# drop duplicates\n",
    "df = df.drop_duplicates()\n",
    "print(\"rows after dropping duplicates:\", len(df))\n",
    "\n",
    "# NaN check\n",
    "nan_counts = df.isna().sum()\n",
    "print(\"NaN counts:\\n\", nan_counts)\n",
    "\n",
    "has_nan = df.isna().any(axis=1)\n",
    "if has_nan.any():\n",
    "    print(\"Rows with NaN:\")\n",
    "    display(df[has_nan])  \n",
    "else:\n",
    "    print(\"No NaNs found.\")\n",
    "\n",
    "# screen_date → datetime\n",
    "df[\"screen_date\"] = pd.to_datetime(df[\"screen_date\"], errors=\"coerce\")\n",
    "\n",
    "def runtime_to_timedelta(s):\n",
    "    if not isinstance(s, str) or not s.strip():\n",
    "        return pd.NaT\n",
    "    \n",
    "    if re.match(r\"^\\d+\\s+days\", s):\n",
    "        try:\n",
    "            return pd.to_timedelta(s)\n",
    "        except Exception:\n",
    "            return pd.NaT\n",
    "    \n",
    "    # \"Xh Ym\" or \"Xm\" or \"Xh\"\n",
    "    h = re.search(r\"(\\d+)\\s*h\", s)\n",
    "    m = re.search(r\"(\\d+)\\s*m\", s)\n",
    "    hours = int(h.group(1)) if h else 0\n",
    "    mins = int(m.group(1)) if m else 0\n",
    "    if hours==0 and mins==0:\n",
    "        return pd.NaT\n",
    "    return pd.to_timedelta(hours, unit=\"h\") + pd.to_timedelta(mins, unit=\"m\")\n",
    "\n",
    "print(\"Post-conversion nulls:\",\n",
    "      {\"screen_date\": df[\"screen_date\"].isna().sum(),\n",
    "       \"runtime\": df[\"runtime\"].isna().sum()})\n",
    "\n",
    "# sort by date asc\n",
    "df = df.sort_values([\"screen_date\", \"title\"], ascending=[True, True]).reset_index(drop=True)\n",
    "\n",
    "print(df[[\"title\",\"directors\",\"year\",\"genre\",\"runtime\",\"theater\",\"screen_date\",\"screen_times\"]]\n",
    "      .head(10).to_string(index=False))"
   ]
  },
  {
   "cell_type": "code",
   "execution_count": null,
   "id": "22e474a9-10b2-4376-9ce1-620883241788",
   "metadata": {
    "tags": [
     "otter_answer_cell"
    ]
   },
   "outputs": [
    {
     "name": "stdout",
     "output_type": "stream",
     "text": [
      "                                title         directors  year    genre  \\\n",
      "0         Big Trouble in Little China    John Carpenter  1986   Comedy   \n",
      "1   Ghost Dog: The Way of the Samurai      Jim Jarmusch  1999    Crime   \n",
      "2                           Stray Dog    Akira Kurosawa  1949    Crime   \n",
      "10                 Young Frankenstein        Mel Brooks  1974   Comedy   \n",
      "9                 Thomasine & Bushrod  Gordon Parks Jr.  1974  Western   \n",
      "\n",
      "           runtime                  theater screen_date      screen_times  \n",
      "0  0 days 01:40:00  Coolidge Corner Theatre  2024-05-24          11:59 PM  \n",
      "1  0 days 01:56:00              The Brattle  2024-05-24  4:00 PM, 9:00 PM  \n",
      "2  0 days 02:02:00              The Brattle  2024-05-24           6:30 PM  \n",
      "10 0 days 01:46:00              The Brattle  2024-05-25          12:00 PM  \n",
      "9  0 days 01:35:00              The Brattle  2024-05-25           7:00 PM  \n"
     ]
    }
   ],
   "source": [
    "# convert screen_date to datetime\n",
    "df[\"screen_date\"] = pd.to_datetime(df[\"screen_date\"], errors=\"coerce\")\n",
    "\n",
    "# convert runtime string to timedelta\n",
    "def to_timedelta(rt):\n",
    "    if not isinstance(rt, str) or not rt:\n",
    "        return pd.NaT\n",
    "    h, m = 0, 0\n",
    "    if \"h\" in rt:\n",
    "        try:\n",
    "            h = int(re.search(r\"(\\d+)h\", rt).group(1))\n",
    "        except Exception:\n",
    "            h = 0\n",
    "    if \"m\" in rt:\n",
    "        try:\n",
    "            m = int(re.search(r\"(\\d+)m\", rt).group(1))\n",
    "        except Exception:\n",
    "            m = 0\n",
    "    return pd.to_timedelta(f\"{h:02d}:{m:02d}:00\")\n",
    "\n",
    "df[\"runtime\"] = df[\"runtime\"].apply(to_timedelta)\n",
    "\n",
    "# sort by screen_date\n",
    "df = df.sort_values(\"screen_date\", ascending=True)\n",
    "\n",
    "print(df.head())"
   ]
  },
  {
   "cell_type": "code",
   "execution_count": 131,
   "id": "1ad88a84",
   "metadata": {
    "deletable": false,
    "editable": false
   },
   "outputs": [
    {
     "data": {
      "text/html": [
       "<p><strong><pre style='display: inline;'>q4</pre></strong> passed! 🌟</p>"
      ],
      "text/plain": [
       "q4 results: All test cases passed!"
      ]
     },
     "execution_count": 131,
     "metadata": {},
     "output_type": "execute_result"
    }
   ],
   "source": [
    "grader.check(\"q4\")"
   ]
  },
  {
   "cell_type": "markdown",
   "id": "b2f235ae-92d0-49b6-83aa-eb0a4021b1eb",
   "metadata": {
    "deletable": false,
    "editable": false
   },
   "source": [
    "<div class=md>\n",
    "    \n",
    "<h3>5. Initial Exploratory Data Analysis (EDA)</h3>\n",
    "\n",
    "Using your DataFrame, perform the following exploratory data analysis tasks. Note that we'll use the term \"screening\" to refer to rows in the DataFrame example provided above. For each visualization component of this question you should interpret the results and draw conclusions.\n",
    "\n",
    "<div class=prompt>\n",
    "\n",
    "1. **Longest Films**:\n",
    "   Display the rows corresponding to the top 5 longest reported runtimes in descending order.\n",
    "\n",
    "2. **Screening Counts**:\n",
    "   Create two plots as side-by-side subplots with a shared y-axis range:\\\n",
    "   a. Number of screenings by theater\\\n",
    "   b. Number of screenings by genre\n",
    "\n",
    "3. **Movie Year Analysis**:\n",
    "   Create two separate plots:\\\n",
    "   a. Distribution of 'year' for all movies\\\n",
    "   b. Distribution of 'year' grouped by theater\n",
    "\n",
    "4. **Custom Analysis**:\n",
    "   Ask two questions of your choice regarding the screening data and use plots to attempt to find some answers. For each question:\\\n",
    "   a. Clearly state your question\\\n",
    "   b. Explain your approach to answering the question\\\n",
    "   c. Create an appropriate visualization\n",
    "   \n",
    "   At least one of these new plots must be a different type from those used in parts 2 and 3.\n",
    "\n",
    "Example questions you might consider:\n",
    "- Is there a relationship between a movie's age (current year - release year) and the number of screenings it receives?\n",
    "- Do certain genres tend to have longer runtimes?\n",
    "- Are there patterns in screening times for different theaters or genres?\n",
    "- How does the distribution of genres vary across different theaters?\n",
    "\n",
    "\n",
    "</div>\n",
    "</div>"
   ]
  },
  {
   "cell_type": "code",
   "execution_count": 132,
   "id": "e5d6435e-bc72-4d9c-9b55-bc8d31362318",
   "metadata": {
    "tags": [
     "otter_answer_cell"
    ]
   },
   "outputs": [
    {
     "name": "stdout",
     "output_type": "stream",
     "text": [
      "Top 5 longest films:\n",
      "                                               title  year       genre         runtime             theater screen_date\n",
      "                                             La Roue  1923       Drama 0 days 06:58:00         The Brattle  2024-09-28\n",
      "                                  The Phantom Creeps  1939       SciFi 0 days 04:25:00  Somerville Theatre  2024-08-25\n",
      "                      Menus-Plaisirs - Les Troisgros  2023 Documentary 0 days 04:00:00 Museum of Fine Arts  2024-08-03\n",
      "                                             Ben-Hur  1959     History 0 days 03:42:00  Somerville Theatre  2024-06-22\n",
      "Jeanne Dielman, 23, quai du Commerce, 1080 Bruxelles  1976       Drama 0 days 03:22:00         The Brattle  2024-08-04\n"
     ]
    }
   ],
   "source": [
    "# 1. Longest films\n",
    "longest = (df[df[\"runtime\"].notna()]\n",
    "           .nlargest(5, \"runtime\")\n",
    "           [[\"title\",\"year\",\"genre\",\"runtime\",\"theater\",\"screen_date\"]])\n",
    "\n",
    "print(\"Top 5 longest films:\")\n",
    "print(longest.to_string(index=False))"
   ]
  },
  {
   "cell_type": "code",
   "execution_count": 133,
   "id": "ccfab035-93a1-4d20-8a8c-5d288f07bd15",
   "metadata": {
    "tags": [
     "otter_answer_cell"
    ]
   },
   "outputs": [
    {
     "data": {
      "image/png": "[encoded data removed]",
      "text/plain": [
       "<Figure size 1200x500 with 2 Axes>"
      ]
     },
     "metadata": {},
     "output_type": "display_data"
    }
   ],
   "source": [
    "# 2. Screening Counts — robust cleaning + plots (single cell)\n",
    "s_theater = df[\"theater\"].astype(str).str.strip()\n",
    "s_genre   = df[\"genre\"].astype(str).str.strip()\n",
    "s_theater = s_theater[s_theater != \"\"]\n",
    "s_genre   = s_genre[s_genre != \"\"]\n",
    "\n",
    "cnt_theater = s_theater.value_counts()\n",
    "cnt_genre   = s_genre.value_counts()\n",
    "\n",
    "top = 12  # keep labels readable\n",
    "fig, axes = plt.subplots(1, 2, figsize=(12, 5), sharey=True)\n",
    "\n",
    "cnt_theater.head(top).plot(kind=\"bar\", ax=axes[0], title=\"Screenings by Theater (Top 12)\")\n",
    "axes[0].set_xlabel(\"\"); axes[0].tick_params(axis=\"x\", rotation=75)\n",
    "\n",
    "cnt_genre.head(top).plot(kind=\"bar\", ax=axes[1], title=\"Screenings by Genre (Top 12)\")\n",
    "axes[1].set_xlabel(\"\"); axes[1].tick_params(axis=\"x\", rotation=75)\n",
    "\n",
    "plt.tight_layout(); plt.show()\n"
   ]
  },
  {
   "cell_type": "code",
   "execution_count": 134,
   "id": "689e315e-5b10-4fa0-bda1-8067dd8bb5ee",
   "metadata": {
    "tags": [
     "otter_answer_cell"
    ]
   },
   "outputs": [
    {
     "data": {
      "image/png": "[encoded data removed]",
      "text/plain": [
       "<Figure size 700x400 with 1 Axes>"
      ]
     },
     "metadata": {},
     "output_type": "display_data"
    }
   ],
   "source": [
    "# 3. Year distribution & distribution of year by theater\n",
    "years = df[\"year\"].dropna().astype(int)\n",
    "\n",
    "plt.figure(figsize=(7,4))\n",
    "plt.hist(years, bins=30, edgecolor=\"black\")\n",
    "plt.title(\"Distribution of Movie Years\")\n",
    "plt.xlabel(\"Year\")\n",
    "plt.ylabel(\"Count\")\n",
    "plt.tight_layout()\n",
    "plt.show()\n"
   ]
  },
  {
   "cell_type": "code",
   "execution_count": 138,
   "id": "167374a0-bb68-4188-b766-0919e94c261c",
   "metadata": {
    "tags": [
     "otter_answer_cell"
    ]
   },
   "outputs": [
    {
     "data": {
      "image/png": "[encoded data removed]",
      "text/plain": [
       "<Figure size 700x400 with 1 Axes>"
      ]
     },
     "metadata": {},
     "output_type": "display_data"
    }
   ],
   "source": [
    "# 4.1 Custom question 1 - Runtime Distributions by Year (Scatter with Trend Line, Outliers Removed but Included in Regression)\n",
    "\n",
    "# minutes for regression/plot\n",
    "df_q = df.dropna(subset=[\"year\",\"runtime\"]).copy()\n",
    "df_q[\"runtime_min\"] = df_q[\"runtime\"].dt.total_seconds() / 60\n",
    "df_q[\"year\"] = df_q[\"year\"].astype(int)\n",
    "\n",
    "# trend line uses ALL points \n",
    "z = np.polyfit(df_q[\"year\"], df_q[\"runtime_min\"], 1)\n",
    "xline = np.linspace(df_q[\"year\"].min(), df_q[\"year\"].max(), 200)\n",
    "yline = z[0]*xline + z[1]\n",
    "\n",
    "# outlier removal ONLY for visualization \n",
    "low, high = df_q[\"runtime_min\"].quantile([0.01, 0.99])\n",
    "viz = df_q[(df_q[\"runtime_min\"]>=low) & (df_q[\"runtime_min\"]<=high)]\n",
    "\n",
    "plt.figure(figsize=(7,4))\n",
    "plt.scatter(viz[\"year\"], viz[\"runtime_min\"], s=14, alpha=0.6)\n",
    "plt.plot(xline, yline, linewidth=2)  # fitted on full data\n",
    "plt.title(\"Runtime vs. Year\")\n",
    "plt.xlabel(\"Year\"); plt.ylabel(\"Runtime (minutes)\")\n",
    "plt.tight_layout(); plt.show()\n"
   ]
  },
  {
   "cell_type": "code",
   "execution_count": 139,
   "id": "cfa02d2a-c38e-480c-8c81-08107b1eaa54",
   "metadata": {
    "tags": [
     "otter_answer_cell"
    ]
   },
   "outputs": [
    {
     "data": {
      "image/png": "[encoded data removed]",
      "text/plain": [
       "<Figure size 800x500 with 1 Axes>"
      ]
     },
     "metadata": {},
     "output_type": "display_data"
    }
   ],
   "source": [
    "# 4.2 Custom question 2 - Top 10 Directors by Number of Screenings (Aesthetic Improvements)\n",
    "\n",
    "dir_counts = (df[\"directors\"].astype(str).str.strip()\n",
    "              .replace(\"\", np.nan).dropna()\n",
    "              .value_counts().head(10)).sort_values(ascending=True)\n",
    "\n",
    "plt.figure(figsize=(8,5))\n",
    "ax = dir_counts.plot(kind=\"barh\", title=\"Top 10 Directors by Screenings\")\n",
    "ax.set_xlabel(\"Screenings\"); ax.set_ylabel(\"\")\n",
    "\n",
    "for i, v in enumerate(dir_counts.values):\n",
    "    ax.text(v + max(dir_counts.values)*0.01, i, str(v), va=\"center\")\n",
    "plt.tight_layout(); plt.show()"
   ]
  },
  {
   "cell_type": "markdown",
   "id": "10d6174f-88a3-4e95-b111-f9b24ab16c34",
   "metadata": {
    "deletable": false,
    "editable": false
   },
   "source": [
    "\n",
    "<div class=md>\n",
    "<h3>6. Get each film’s Wikipedia page identifier</h3>\n",
    "\n",
    "Use the Wikipedia Python library to find a stable identifier for each film’s Wikipedia page and store it in a new `wiki_id` column. Prefer the numeric page ID (`page.pageid`); a canonical article URL is acceptable. Display the head of your updated DataFrame and briefly describe your approach. Aim for at least 50% coverage.\n",
    "\n",
    "<strong>Hints:</strong>\n",
    "- Set up the library: `wikipedia.set_lang(\"en\")` and `wikipedia.set_rate_limiting(True)`.\n",
    "- Build your search query from known fields (e.g., title + year + \"film\" [+ director if helpful]).\n",
    "- Use `wikipedia.search(...)`, then fetch a page with `wikipedia.page(..., auto_suggest=True)`.\n",
    "- Extract a stable ID: `page.pageid` (preferred) or `page.url`.\n",
    "- Handle `DisambiguationError` and `PageError`; return `None` when you’re not confident.\n",
    "- Cache results (e.g., write `wiki_id` to a CSV and only query rows where it’s missing).\n",
    "- Optional: use a small thread pool for speed, but keep concurrency low to be polite to Wikipedia.\n",
    "\n",
    "\n",
    "<strong>Optional performance hints (polite concurrency):</strong>\n",
    "- The <code>wikipedia</code> calls are blocking I/O. If you want to speed things up, use a small <code>ThreadPoolExecutor</code> (threads are appropriate for I/O). Keep <code>max_workers</code> low (2–4; at most ~8) and enable <code>wikipedia.set_rate_limiting(True)</code>.\n",
    "- Simple threaded map (no asyncio):\n",
    "  \n",
    "  ```python\n",
    "  from concurrent.futures import ThreadPoolExecutor\n",
    "\n",
    "  wikipedia.set_rate_limiting(True)\n",
    "\n",
    "  def get_wiki_id_for_movie(row):\n",
    "      # your blocking lookup; return pageid or None\n",
    "      ...\n",
    "\n",
    "  rows = df.to_dict(\"records\")\n",
    "  with ThreadPoolExecutor(max_workers=3) as ex:\n",
    "      wiki_ids = list(ex.map(get_wiki_id_for_movie, rows))\n",
    "  df[\"wiki_id\"] = wiki_ids\n",
    "  ```\n",
    "- If you prefer <code>asyncio</code>, you can run the blocking function in a thread pool and gather results:\n",
    "  \n",
    "  ```python\n",
    "  import asyncio\n",
    "  from concurrent.futures import ThreadPoolExecutor\n",
    "\n",
    "  async def get_wiki_ids_async(rows, max_workers=3):\n",
    "      loop = asyncio.get_running_loop()\n",
    "      with ThreadPoolExecutor(max_workers=max_workers) as ex:\n",
    "          tasks = [loop.run_in_executor(ex, get_wiki_id_for_movie, r) for r in rows]\n",
    "          return await asyncio.gather(*tasks)\n",
    "\n",
    "  wiki_ids = await get_wiki_ids_async(df.to_dict(\"records\"), max_workers=3)\n",
    "  df[\"wiki_id\"] = wiki_ids\n",
    "  ```\n",
    "- Cache results to disk so you don’t repeat requests. Handle <code>DisambiguationError</code>/<code>PageError</code> and return <code>None</code> gracefully.\n",
    "\n",
    "\n",
    "<strong>Ensure that :</strong>\n",
    "- `df` has a `wiki_id` column.\n",
    "- ≥50% of `wiki_id` are non-null.\n",
    "- You show the head of the updated DataFrame and briefly describe your approach.\n",
    "\n",
    "</div>"
   ]
  },
  {
   "cell_type": "code",
   "execution_count": 142,
   "id": "d715a479",
   "metadata": {
    "tags": [
     "otter_answer_cell"
    ]
   },
   "outputs": [
    {
     "name": "stderr",
     "output_type": "stream",
     "text": [
      "c:\\Dev\\csci109\\venv313\\Lib\\site-packages\\wikipedia\\wikipedia.py:389: GuessedAtParserWarning: No parser was explicitly specified, so I'm using the best available HTML parser for this system (\"html.parser\"). This usually isn't a problem, but if you run this code on another system, or in a different virtual environment, it may use a different parser and behave differently.\n",
      "\n",
      "The code that caused this warning is on line 389 of the file c:\\Dev\\csci109\\venv313\\Lib\\site-packages\\wikipedia\\wikipedia.py. To get rid of this warning, pass the additional argument 'features=\"html.parser\"' to the BeautifulSoup constructor.\n",
      "\n",
      "  lis = BeautifulSoup(html).find_all('li')\n"
     ]
    },
    {
     "name": "stdout",
     "output_type": "stream",
     "text": [
      "                            title  year        directors wiki_id\n",
      "      Big Trouble in Little China  1986   John Carpenter  697113\n",
      "Ghost Dog: The Way of the Samurai  1999     Jim Jarmusch  471352\n",
      "                        Stray Dog  1949   Akira Kurosawa  867905\n",
      "               Young Frankenstein  1974       Mel Brooks  442647\n",
      "              Thomasine & Bushrod  1974 Gordon Parks Jr. 4340576\n",
      "                             Ring  1998     Hideo Nakata  180785\n",
      "                Stop Making Sense  1984   Jonathan Demme 1471831\n",
      "         Kind Hearts and Coronets  1949     Robert Hamer    None\n",
      "                    Jour de FÃªte  1949     Jacques Tati    None\n",
      "                       Black Rain  1989     Ridley Scott 3529964\n",
      "Coverage: 79.6% (target ≥ 50%)\n"
     ]
    }
   ],
   "source": [
    "# Custom question 2 - Retrieving Wikipedia page IDs for movies\n",
    "import wikipedia\n",
    "from concurrent.futures import ThreadPoolExecutor\n",
    "\n",
    "wikipedia.set_lang(\"en\")\n",
    "wikipedia.set_rate_limiting(True)\n",
    "\n",
    "CACHE = \"data/wiki_cache.csv\"\n",
    "os.makedirs(\"data\", exist_ok=True)\n",
    "\n",
    "if os.path.exists(CACHE):\n",
    "    cache_df = pd.read_csv(CACHE)\n",
    "else:\n",
    "    cache_df = pd.DataFrame(columns=[\"title\",\"year\",\"wiki_id\"])\n",
    "cache_df[\"year\"] = pd.to_numeric(cache_df[\"year\"], errors=\"coerce\").astype(\"Int64\")\n",
    "cache = {(r[\"title\"], (int(r[\"year\"]) if not pd.isna(r[\"year\"]) else None)): r[\"wiki_id\"]\n",
    "         for _, r in cache_df.iterrows()}\n",
    "\n",
    "def norm(s): return re.sub(r\"[^a-z0-9]+\", \"\", str(s).lower())\n",
    "\n",
    "def build_query(row):\n",
    "    q = [row[\"title\"]]\n",
    "    if pd.notna(row.get(\"year\")): q.append(str(int(row[\"year\"])))\n",
    "    q.append(\"film\")\n",
    "    d = str(row.get(\"directors\",\"\")).strip()\n",
    "    if d: q.append(d)\n",
    "    return \" \".join(q)\n",
    "\n",
    "def confident(row, page):\n",
    "    t_ok = norm(row[\"title\"]) in norm(page.title)\n",
    "    y = str(int(row[\"year\"])) if pd.notna(row.get(\"year\")) else \"\"\n",
    "    y_ok = (y and f\"({y} film)\" in page.title) or (y and y in (page.summary or \"\")[:500])\n",
    "    return t_ok and (\"film\" in page.title.lower() or y_ok)\n",
    "\n",
    "def get_wiki_id_for_movie(row):\n",
    "    key = (row[\"title\"], int(row[\"year\"]) if pd.notna(row[\"year\"]) else None)\n",
    "    if key in cache: return cache[key]\n",
    "    queries = [build_query(row), f'{row[\"title\"]} film', row[\"title\"]]\n",
    "    wid = None\n",
    "    for q in queries:\n",
    "        try:\n",
    "            hits = wikipedia.search(q, results=5)\n",
    "            for h in hits:\n",
    "                try:\n",
    "                    page = wikipedia.page(h, auto_suggest=True, preload=False, redirect=True)\n",
    "                    if confident(row, page):\n",
    "                        wid = page.pageid if getattr(page, \"pageid\", None) else page.url\n",
    "                        raise StopIteration\n",
    "                except wikipedia.DisambiguationError as e:\n",
    "                    for opt in e.options[:6]:\n",
    "                        if \"film\" in opt.lower():\n",
    "                            try:\n",
    "                                page = wikipedia.page(opt, auto_suggest=True, preload=False, redirect=True)\n",
    "                                if confident(row, page):\n",
    "                                    wid = page.pageid if getattr(page, \"pageid\", None) else page.url\n",
    "                                    raise StopIteration\n",
    "                            except Exception:\n",
    "                                continue\n",
    "                except wikipedia.PageError:\n",
    "                    continue\n",
    "        except StopIteration:\n",
    "            break\n",
    "        except Exception:\n",
    "            continue\n",
    "        time.sleep(0.2)  # be polite\n",
    "    cache[key] = wid\n",
    "    return wid\n",
    "\n",
    "# prepare rows\n",
    "work = (df[[\"title\",\"year\",\"directors\"]]\n",
    "        .drop_duplicates()\n",
    "        .to_dict(\"records\"))\n",
    "work_todo = [r for r in work if (r[\"title\"], int(r[\"year\"]) if pd.notna(r[\"year\"]) else None) not in cache]\n",
    "\n",
    "# threaded lookups\n",
    "if work_todo:\n",
    "    with ThreadPoolExecutor(max_workers=3) as ex:\n",
    "        new_ids = list(ex.map(get_wiki_id_for_movie, work_todo))\n",
    "    add_df = pd.DataFrame(work_todo)\n",
    "    add_df[\"wiki_id\"] = new_ids\n",
    "    # merge into cache_df\n",
    "    merged = (pd.concat([cache_df, add_df[[\"title\",\"year\",\"wiki_id\"]]], ignore_index=True)\n",
    "                .sort_values(by=\"wiki_id\", na_position=\"last\")\n",
    "                .drop_duplicates(subset=[\"title\",\"year\"], keep=\"first\"))\n",
    "else:\n",
    "    merged = cache_df.copy()\n",
    "\n",
    "# persist cache\n",
    "merged.to_csv(CACHE, index=False)\n",
    "\n",
    "# to df\n",
    "tmp = merged[[\"title\",\"year\",\"wiki_id\"]].copy()\n",
    "tmp[\"year\"] = pd.to_numeric(tmp[\"year\"], errors=\"coerce\").astype(\"Int64\")\n",
    "df[\"year\"] = pd.to_numeric(df[\"year\"], errors=\"coerce\").astype(\"Int64\")\n",
    "df = df.merge(tmp, on=[\"title\",\"year\"], how=\"left\", suffixes=(\"\",\"\"))\n",
    "\n",
    "# coverage + head\n",
    "coverage = df[\"wiki_id\"].notna().mean()*100\n",
    "print(df.head(10)[[\"title\",\"year\",\"directors\",\"wiki_id\"]].to_string(index=False))\n",
    "print(f\"Coverage: {coverage:.1f}% (target ≥ 50%)\")"
   ]
  },
  {
   "cell_type": "code",
   "execution_count": 143,
   "id": "6764473d-6052-4ed0-82db-ac6e7b34a7d6",
   "metadata": {
    "deletable": false,
    "editable": false
   },
   "outputs": [
    {
     "name": "stdout",
     "output_type": "stream",
     "text": [
      "Number of screenings missing a wiki ID: 102\n",
      "Example rows with missing wiki ID\n"
     ]
    },
    {
     "data": {
      "text/html": [
       "<div>\n",
       "<style scoped>\n",
       "    .dataframe tbody tr th:only-of-type {\n",
       "        vertical-align: middle;\n",
       "    }\n",
       "\n",
       "    .dataframe tbody tr th {\n",
       "        vertical-align: top;\n",
       "    }\n",
       "\n",
       "    .dataframe thead th {\n",
       "        text-align: right;\n",
       "    }\n",
       "</style>\n",
       "<table border=\"1\" class=\"dataframe\">\n",
       "  <thead>\n",
       "    <tr style=\"text-align: right;\">\n",
       "      <th></th>\n",
       "      <th>title</th>\n",
       "      <th>directors</th>\n",
       "      <th>year</th>\n",
       "      <th>genre</th>\n",
       "      <th>runtime</th>\n",
       "      <th>theater</th>\n",
       "      <th>screen_date</th>\n",
       "      <th>screen_times</th>\n",
       "      <th>wiki_id</th>\n",
       "    </tr>\n",
       "  </thead>\n",
       "  <tbody>\n",
       "    <tr>\n",
       "      <th>7</th>\n",
       "      <td>Kind Hearts and Coronets</td>\n",
       "      <td>Robert Hamer</td>\n",
       "      <td>1949</td>\n",
       "      <td>Comedy</td>\n",
       "      <td>0 days 01:44:00</td>\n",
       "      <td>The Brattle</td>\n",
       "      <td>2024-05-25</td>\n",
       "      <td>2:30 PM</td>\n",
       "      <td>None</td>\n",
       "    </tr>\n",
       "    <tr>\n",
       "      <th>8</th>\n",
       "      <td>Jour de FÃªte</td>\n",
       "      <td>Jacques Tati</td>\n",
       "      <td>1949</td>\n",
       "      <td>Comedy</td>\n",
       "      <td>0 days 01:26:00</td>\n",
       "      <td>The Brattle</td>\n",
       "      <td>2024-05-25</td>\n",
       "      <td>4:45 PM</td>\n",
       "      <td>None</td>\n",
       "    </tr>\n",
       "    <tr>\n",
       "      <th>16</th>\n",
       "      <td>Kind Hearts and Coronets</td>\n",
       "      <td>Robert Hamer</td>\n",
       "      <td>1949</td>\n",
       "      <td>Comedy</td>\n",
       "      <td>0 days 01:44:00</td>\n",
       "      <td>The Brattle</td>\n",
       "      <td>2024-05-27</td>\n",
       "      <td>12:00 PM</td>\n",
       "      <td>None</td>\n",
       "    </tr>\n",
       "    <tr>\n",
       "      <th>17</th>\n",
       "      <td>All About My Mother</td>\n",
       "      <td>Pedro AlmodÃ³var</td>\n",
       "      <td>1999</td>\n",
       "      <td>Comedy</td>\n",
       "      <td>0 days 01:41:00</td>\n",
       "      <td>The Brattle</td>\n",
       "      <td>2024-05-27</td>\n",
       "      <td>2:30 PM, 7:15 PM</td>\n",
       "      <td>None</td>\n",
       "    </tr>\n",
       "    <tr>\n",
       "      <th>21</th>\n",
       "      <td>Beau Travail</td>\n",
       "      <td>Claire Denis</td>\n",
       "      <td>2000</td>\n",
       "      <td>Drama</td>\n",
       "      <td>0 days 01:32:00</td>\n",
       "      <td>The Brattle</td>\n",
       "      <td>2024-05-28</td>\n",
       "      <td>8:30 PM</td>\n",
       "      <td>None</td>\n",
       "    </tr>\n",
       "    <tr>\n",
       "      <th>...</th>\n",
       "      <td>...</td>\n",
       "      <td>...</td>\n",
       "      <td>...</td>\n",
       "      <td>...</td>\n",
       "      <td>...</td>\n",
       "      <td>...</td>\n",
       "      <td>...</td>\n",
       "      <td>...</td>\n",
       "      <td>...</td>\n",
       "    </tr>\n",
       "    <tr>\n",
       "      <th>456</th>\n",
       "      <td>The Sealed Soil</td>\n",
       "      <td>Marva Nabili</td>\n",
       "      <td>1977</td>\n",
       "      <td>Drama</td>\n",
       "      <td>0 days 01:30:00</td>\n",
       "      <td>The Brattle</td>\n",
       "      <td>2025-10-01</td>\n",
       "      <td>8:00 PM</td>\n",
       "      <td>None</td>\n",
       "    </tr>\n",
       "    <tr>\n",
       "      <th>457</th>\n",
       "      <td>Amores Perros</td>\n",
       "      <td>Alejandro GonzÃ¡lez IÃ±Ã¡rritu</td>\n",
       "      <td>2000</td>\n",
       "      <td>Drama</td>\n",
       "      <td>0 days 02:34:00</td>\n",
       "      <td>The Brattle</td>\n",
       "      <td>2025-10-02</td>\n",
       "      <td>6:00 PM</td>\n",
       "      <td>None</td>\n",
       "    </tr>\n",
       "    <tr>\n",
       "      <th>461</th>\n",
       "      <td>A Terra! The Cinema of Marta Mateus Program I</td>\n",
       "      <td>Various</td>\n",
       "      <td>1974</td>\n",
       "      <td>Drama</td>\n",
       "      <td>0 days 01:10:00</td>\n",
       "      <td>Harvard Film Archive</td>\n",
       "      <td>2025-10-03</td>\n",
       "      <td>7:00 PM</td>\n",
       "      <td>None</td>\n",
       "    </tr>\n",
       "    <tr>\n",
       "      <th>469</th>\n",
       "      <td>Jane Austen Wrecked My Life</td>\n",
       "      <td>Laura Piani</td>\n",
       "      <td>2025</td>\n",
       "      <td>Comedy</td>\n",
       "      <td>0 days 01:38:00</td>\n",
       "      <td>West Newton Cinema</td>\n",
       "      <td>2025-10-05</td>\n",
       "      <td>4:00 PM</td>\n",
       "      <td>None</td>\n",
       "    </tr>\n",
       "    <tr>\n",
       "      <th>493</th>\n",
       "      <td>A Terra! The Cinema of Marta Mateus Program III</td>\n",
       "      <td>Various</td>\n",
       "      <td>1962</td>\n",
       "      <td>Drama</td>\n",
       "      <td>0 days 01:25:00</td>\n",
       "      <td>Harvard Film Archive</td>\n",
       "      <td>2025-10-13</td>\n",
       "      <td>7:00 PM</td>\n",
       "      <td>None</td>\n",
       "    </tr>\n",
       "  </tbody>\n",
       "</table>\n",
       "<p>102 rows × 9 columns</p>\n",
       "</div>"
      ],
      "text/plain": [
       "                                               title  \\\n",
       "7                           Kind Hearts and Coronets   \n",
       "8                                      Jour de FÃªte   \n",
       "16                          Kind Hearts and Coronets   \n",
       "17                               All About My Mother   \n",
       "21                                      Beau Travail   \n",
       "..                                               ...   \n",
       "456                                  The Sealed Soil   \n",
       "457                                    Amores Perros   \n",
       "461    A Terra! The Cinema of Marta Mateus Program I   \n",
       "469                      Jane Austen Wrecked My Life   \n",
       "493  A Terra! The Cinema of Marta Mateus Program III   \n",
       "\n",
       "                          directors  year   genre         runtime  \\\n",
       "7                      Robert Hamer  1949  Comedy 0 days 01:44:00   \n",
       "8                      Jacques Tati  1949  Comedy 0 days 01:26:00   \n",
       "16                     Robert Hamer  1949  Comedy 0 days 01:44:00   \n",
       "17                 Pedro AlmodÃ³var  1999  Comedy 0 days 01:41:00   \n",
       "21                     Claire Denis  2000   Drama 0 days 01:32:00   \n",
       "..                              ...   ...     ...             ...   \n",
       "456                    Marva Nabili  1977   Drama 0 days 01:30:00   \n",
       "457  Alejandro GonzÃ¡lez IÃ±Ã¡rritu  2000   Drama 0 days 02:34:00   \n",
       "461                         Various  1974   Drama 0 days 01:10:00   \n",
       "469                     Laura Piani  2025  Comedy 0 days 01:38:00   \n",
       "493                         Various  1962   Drama 0 days 01:25:00   \n",
       "\n",
       "                  theater screen_date      screen_times wiki_id  \n",
       "7             The Brattle  2024-05-25           2:30 PM    None  \n",
       "8             The Brattle  2024-05-25           4:45 PM    None  \n",
       "16            The Brattle  2024-05-27          12:00 PM    None  \n",
       "17            The Brattle  2024-05-27  2:30 PM, 7:15 PM    None  \n",
       "21            The Brattle  2024-05-28           8:30 PM    None  \n",
       "..                    ...         ...               ...     ...  \n",
       "456           The Brattle  2025-10-01           8:00 PM    None  \n",
       "457           The Brattle  2025-10-02           6:00 PM    None  \n",
       "461  Harvard Film Archive  2025-10-03           7:00 PM    None  \n",
       "469    West Newton Cinema  2025-10-05           4:00 PM    None  \n",
       "493  Harvard Film Archive  2025-10-13           7:00 PM    None  \n",
       "\n",
       "[102 rows x 9 columns]"
      ]
     },
     "metadata": {},
     "output_type": "display_data"
    }
   ],
   "source": [
    "# Display results of updated df\n",
    "missing_rows = df[df.wiki_id.isna()]\n",
    "num_wiki_id_na = missing_rows.shape[0]\n",
    "print(\"Number of screenings missing a wiki ID:\", num_wiki_id_na)\n",
    "if num_wiki_id_na > 0:\n",
    "    print(\"Example rows with missing wiki ID\")\n",
    "    display.display(missing_rows)"
   ]
  },
  {
   "cell_type": "markdown",
   "id": "e58b8849-38eb-4687-90ab-349237d0d6eb",
   "metadata": {
    "deletable": false,
    "editable": false
   },
   "source": [
    "**Approach (Wikipedia IDs)**  \n",
    "- I built a few search strings for each film, in order: `Title (YEAR film)` → `Title (film)` → `Title film` → `Title LASTNAME (YEAR film)` (LASTNAME from the director).  \n",
    "- I used the `wikipedia` Python package with `set_lang(\"en\")` and `set_rate_limiting(True)`. To be polite but not too slow, I ran lookups with a small thread pool (`max_workers=3`).  \n",
    "- For each hit I fetched the page (`auto_suggest=True`, `redirect=True`) and accepted it if the normalized title matched and either `(YEAR film)` appeared in the title or the word **film** showed up in the title/summary.  \n",
    "- I saved `page.pageid` when available; on `DisambiguationError` or `PageError` I returned `None`.  \n",
    "- I cached results to `data/wiki_cache.csv` so re-runs only query missing rows.  \n",
    "- This met the ≥50% coverage requirement (see the printed coverage).\n",
    "\n",
    "**What didn’t work great & how I’d improve it**  \n",
    "- Ambiguous titles and remakes are still tricky—sometimes the summary/title doesn’t make the “film-ness” obvious.  \n",
    "- I briefly tried a category-based rule (accept a result only if ≥50% of its categories contained “film”), but it was brittle and missed pages.  \n",
    "- A more reliable validator would inspect the **infobox** (e.g., presence of the “Infobox film” template or fields like “Directed by”, “Running time”, “Release date”).  \n",
    "- With more time, I’d add fuzzy title matching with a ±1 year tolerance, cross-check via **Wikidata** (`instance of (P31) = film` + director/year match), and keep a small negative cache to skip titles that repeatedly fail.\n"
   ]
  },
  {
   "cell_type": "code",
   "execution_count": 144,
   "id": "4ded9d53",
   "metadata": {
    "deletable": false,
    "editable": false
   },
   "outputs": [
    {
     "data": {
      "text/html": [
       "<p><strong><pre style='display: inline;'>q6</pre></strong> passed! 🌈</p>"
      ],
      "text/plain": [
       "q6 results: All test cases passed!"
      ]
     },
     "execution_count": 144,
     "metadata": {},
     "output_type": "execute_result"
    }
   ],
   "source": [
    "grader.check(\"q6\")"
   ]
  },
  {
   "cell_type": "markdown",
   "id": "b4d6b0b6-93a9-4604-a218-bdefcc6bf484",
   "metadata": {
    "deletable": false,
    "editable": false
   },
   "source": [
    "<div class='md'>\n",
    "    \n",
    "<h3>7. Acquire HTML from wiki page and store in DataFrame</h3>\n",
    "\n",
    "<div class=prompt>\n",
    "    \n",
    "Use `'wiki_id'` to acquire the HTML content of each film's Wikipedia page and store it in a new column called `'wiki_html'`.\n",
    "</div>\n",
    "</div>"
   ]
  },
  {
   "cell_type": "code",
   "execution_count": 145,
   "id": "9c591d79",
   "metadata": {
    "tags": [
     "otter_answer_cell"
    ]
   },
   "outputs": [
    {
     "name": "stdout",
     "output_type": "stream",
     "text": [
      "                            title  year wiki_id\n",
      "      Big Trouble in Little China  1986  697113\n",
      "Ghost Dog: The Way of the Samurai  1999  471352\n",
      "                        Stray Dog  1949  867905\n",
      "               Young Frankenstein  1974  442647\n",
      "              Thomasine & Bushrod  1974 4340576\n",
      "wiki_html coverage: 79.6%\n"
     ]
    }
   ],
   "source": [
    "CACHE_DIR = \"data/wiki_html\"\n",
    "os.makedirs(CACHE_DIR, exist_ok=True)\n",
    "\n",
    "# simple helpers\n",
    "def is_int_like(x):\n",
    "    try:\n",
    "        int(x); return True\n",
    "    except Exception:\n",
    "        return False\n",
    "\n",
    "def build_url(wid):\n",
    "    # prefer numeric pageid; otherwise treat as canonical URL\n",
    "    return f\"https://en.wikipedia.org/?curid={int(wid)}\" if is_int_like(wid) else str(wid)\n",
    "\n",
    "def cache_path(wid):\n",
    "    key = str(int(wid)) if is_int_like(wid) else hashlib.md5(str(wid).encode(\"utf-8\")).hexdigest()\n",
    "    return os.path.join(CACHE_DIR, f\"{key}.html\")\n",
    "\n",
    "def load_cached(wid):\n",
    "    fp = cache_path(wid)\n",
    "    if os.path.exists(fp):\n",
    "        with open(fp, \"r\", encoding=\"utf-8\", errors=\"ignore\") as f:\n",
    "            return f.read()\n",
    "    return None\n",
    "\n",
    "def save_cached(wid, html):\n",
    "    with open(cache_path(wid), \"w\", encoding=\"utf-8\") as f:\n",
    "        f.write(html)\n",
    "\n",
    "# polite session\n",
    "SESSION = requests.Session()\n",
    "SESSION.headers.update({\"User-Agent\": \"cs109-hw1-student/1.0\"})\n",
    "\n",
    "def fetch_html(wid):\n",
    "    # return HTML or None\n",
    "    try:\n",
    "        url = build_url(wid)\n",
    "        r = SESSION.get(url, timeout=20)\n",
    "        if r.status_code == 200 and \"<html\" in r.text.lower():\n",
    "            return r.text\n",
    "    except Exception:\n",
    "        pass\n",
    "    return None\n",
    "\n",
    "def get_html_for_id(wid):\n",
    "    if pd.isna(wid): return None\n",
    "    c = load_cached(wid)\n",
    "    if c is not None: return c\n",
    "    h = fetch_html(wid)\n",
    "    if h: save_cached(wid, h)\n",
    "    return h\n",
    "\n",
    "# build map for unique ids (small pool = polite)\n",
    "uniq_ids = pd.unique(df[\"wiki_id\"].dropna())\n",
    "html_map = {}\n",
    "if len(uniq_ids):\n",
    "    with ThreadPoolExecutor(max_workers=3) as ex:\n",
    "        for wid, html in zip(uniq_ids, ex.map(get_html_for_id, uniq_ids)):\n",
    "            html_map[wid] = html\n",
    "\n",
    "# attach to df\n",
    "df[\"wiki_html\"] = df[\"wiki_id\"].map(html_map)\n",
    "\n",
    "# quick peek + coverage\n",
    "print(df.head(5)[[\"title\",\"year\",\"wiki_id\"]].to_string(index=False))\n",
    "print(\"wiki_html coverage:\", f\"{df['wiki_html'].notna().mean()*100:.1f}%\")"
   ]
  },
  {
   "cell_type": "code",
   "execution_count": 146,
   "id": "444931d1-6a06-4971-a0af-5b89d3ccd676",
   "metadata": {
    "deletable": false,
    "editable": false
   },
   "outputs": [
    {
     "name": "stdout",
     "output_type": "stream",
     "text": [
      "Number of screenings missing wiki HTML: 102\n",
      "Example rows with missing wiki HTML\n"
     ]
    },
    {
     "data": {
      "text/html": [
       "<div>\n",
       "<style scoped>\n",
       "    .dataframe tbody tr th:only-of-type {\n",
       "        vertical-align: middle;\n",
       "    }\n",
       "\n",
       "    .dataframe tbody tr th {\n",
       "        vertical-align: top;\n",
       "    }\n",
       "\n",
       "    .dataframe thead th {\n",
       "        text-align: right;\n",
       "    }\n",
       "</style>\n",
       "<table border=\"1\" class=\"dataframe\">\n",
       "  <thead>\n",
       "    <tr style=\"text-align: right;\">\n",
       "      <th></th>\n",
       "      <th>title</th>\n",
       "      <th>directors</th>\n",
       "      <th>year</th>\n",
       "      <th>genre</th>\n",
       "      <th>runtime</th>\n",
       "      <th>theater</th>\n",
       "      <th>screen_date</th>\n",
       "      <th>screen_times</th>\n",
       "      <th>wiki_id</th>\n",
       "      <th>wiki_html</th>\n",
       "    </tr>\n",
       "  </thead>\n",
       "  <tbody>\n",
       "    <tr>\n",
       "      <th>7</th>\n",
       "      <td>Kind Hearts and Coronets</td>\n",
       "      <td>Robert Hamer</td>\n",
       "      <td>1949</td>\n",
       "      <td>Comedy</td>\n",
       "      <td>0 days 01:44:00</td>\n",
       "      <td>The Brattle</td>\n",
       "      <td>2024-05-25</td>\n",
       "      <td>2:30 PM</td>\n",
       "      <td>None</td>\n",
       "      <td>NaN</td>\n",
       "    </tr>\n",
       "    <tr>\n",
       "      <th>8</th>\n",
       "      <td>Jour de FÃªte</td>\n",
       "      <td>Jacques Tati</td>\n",
       "      <td>1949</td>\n",
       "      <td>Comedy</td>\n",
       "      <td>0 days 01:26:00</td>\n",
       "      <td>The Brattle</td>\n",
       "      <td>2024-05-25</td>\n",
       "      <td>4:45 PM</td>\n",
       "      <td>None</td>\n",
       "      <td>NaN</td>\n",
       "    </tr>\n",
       "    <tr>\n",
       "      <th>16</th>\n",
       "      <td>Kind Hearts and Coronets</td>\n",
       "      <td>Robert Hamer</td>\n",
       "      <td>1949</td>\n",
       "      <td>Comedy</td>\n",
       "      <td>0 days 01:44:00</td>\n",
       "      <td>The Brattle</td>\n",
       "      <td>2024-05-27</td>\n",
       "      <td>12:00 PM</td>\n",
       "      <td>None</td>\n",
       "      <td>NaN</td>\n",
       "    </tr>\n",
       "    <tr>\n",
       "      <th>17</th>\n",
       "      <td>All About My Mother</td>\n",
       "      <td>Pedro AlmodÃ³var</td>\n",
       "      <td>1999</td>\n",
       "      <td>Comedy</td>\n",
       "      <td>0 days 01:41:00</td>\n",
       "      <td>The Brattle</td>\n",
       "      <td>2024-05-27</td>\n",
       "      <td>2:30 PM, 7:15 PM</td>\n",
       "      <td>None</td>\n",
       "      <td>NaN</td>\n",
       "    </tr>\n",
       "    <tr>\n",
       "      <th>21</th>\n",
       "      <td>Beau Travail</td>\n",
       "      <td>Claire Denis</td>\n",
       "      <td>2000</td>\n",
       "      <td>Drama</td>\n",
       "      <td>0 days 01:32:00</td>\n",
       "      <td>The Brattle</td>\n",
       "      <td>2024-05-28</td>\n",
       "      <td>8:30 PM</td>\n",
       "      <td>None</td>\n",
       "      <td>NaN</td>\n",
       "    </tr>\n",
       "    <tr>\n",
       "      <th>...</th>\n",
       "      <td>...</td>\n",
       "      <td>...</td>\n",
       "      <td>...</td>\n",
       "      <td>...</td>\n",
       "      <td>...</td>\n",
       "      <td>...</td>\n",
       "      <td>...</td>\n",
       "      <td>...</td>\n",
       "      <td>...</td>\n",
       "      <td>...</td>\n",
       "    </tr>\n",
       "    <tr>\n",
       "      <th>456</th>\n",
       "      <td>The Sealed Soil</td>\n",
       "      <td>Marva Nabili</td>\n",
       "      <td>1977</td>\n",
       "      <td>Drama</td>\n",
       "      <td>0 days 01:30:00</td>\n",
       "      <td>The Brattle</td>\n",
       "      <td>2025-10-01</td>\n",
       "      <td>8:00 PM</td>\n",
       "      <td>None</td>\n",
       "      <td>NaN</td>\n",
       "    </tr>\n",
       "    <tr>\n",
       "      <th>457</th>\n",
       "      <td>Amores Perros</td>\n",
       "      <td>Alejandro GonzÃ¡lez IÃ±Ã¡rritu</td>\n",
       "      <td>2000</td>\n",
       "      <td>Drama</td>\n",
       "      <td>0 days 02:34:00</td>\n",
       "      <td>The Brattle</td>\n",
       "      <td>2025-10-02</td>\n",
       "      <td>6:00 PM</td>\n",
       "      <td>None</td>\n",
       "      <td>NaN</td>\n",
       "    </tr>\n",
       "    <tr>\n",
       "      <th>461</th>\n",
       "      <td>A Terra! The Cinema of Marta Mateus Program I</td>\n",
       "      <td>Various</td>\n",
       "      <td>1974</td>\n",
       "      <td>Drama</td>\n",
       "      <td>0 days 01:10:00</td>\n",
       "      <td>Harvard Film Archive</td>\n",
       "      <td>2025-10-03</td>\n",
       "      <td>7:00 PM</td>\n",
       "      <td>None</td>\n",
       "      <td>NaN</td>\n",
       "    </tr>\n",
       "    <tr>\n",
       "      <th>469</th>\n",
       "      <td>Jane Austen Wrecked My Life</td>\n",
       "      <td>Laura Piani</td>\n",
       "      <td>2025</td>\n",
       "      <td>Comedy</td>\n",
       "      <td>0 days 01:38:00</td>\n",
       "      <td>West Newton Cinema</td>\n",
       "      <td>2025-10-05</td>\n",
       "      <td>4:00 PM</td>\n",
       "      <td>None</td>\n",
       "      <td>NaN</td>\n",
       "    </tr>\n",
       "    <tr>\n",
       "      <th>493</th>\n",
       "      <td>A Terra! The Cinema of Marta Mateus Program III</td>\n",
       "      <td>Various</td>\n",
       "      <td>1962</td>\n",
       "      <td>Drama</td>\n",
       "      <td>0 days 01:25:00</td>\n",
       "      <td>Harvard Film Archive</td>\n",
       "      <td>2025-10-13</td>\n",
       "      <td>7:00 PM</td>\n",
       "      <td>None</td>\n",
       "      <td>NaN</td>\n",
       "    </tr>\n",
       "  </tbody>\n",
       "</table>\n",
       "<p>102 rows × 10 columns</p>\n",
       "</div>"
      ],
      "text/plain": [
       "                                               title  \\\n",
       "7                           Kind Hearts and Coronets   \n",
       "8                                      Jour de FÃªte   \n",
       "16                          Kind Hearts and Coronets   \n",
       "17                               All About My Mother   \n",
       "21                                      Beau Travail   \n",
       "..                                               ...   \n",
       "456                                  The Sealed Soil   \n",
       "457                                    Amores Perros   \n",
       "461    A Terra! The Cinema of Marta Mateus Program I   \n",
       "469                      Jane Austen Wrecked My Life   \n",
       "493  A Terra! The Cinema of Marta Mateus Program III   \n",
       "\n",
       "                          directors  year   genre         runtime  \\\n",
       "7                      Robert Hamer  1949  Comedy 0 days 01:44:00   \n",
       "8                      Jacques Tati  1949  Comedy 0 days 01:26:00   \n",
       "16                     Robert Hamer  1949  Comedy 0 days 01:44:00   \n",
       "17                 Pedro AlmodÃ³var  1999  Comedy 0 days 01:41:00   \n",
       "21                     Claire Denis  2000   Drama 0 days 01:32:00   \n",
       "..                              ...   ...     ...             ...   \n",
       "456                    Marva Nabili  1977   Drama 0 days 01:30:00   \n",
       "457  Alejandro GonzÃ¡lez IÃ±Ã¡rritu  2000   Drama 0 days 02:34:00   \n",
       "461                         Various  1974   Drama 0 days 01:10:00   \n",
       "469                     Laura Piani  2025  Comedy 0 days 01:38:00   \n",
       "493                         Various  1962   Drama 0 days 01:25:00   \n",
       "\n",
       "                  theater screen_date      screen_times wiki_id wiki_html  \n",
       "7             The Brattle  2024-05-25           2:30 PM    None       NaN  \n",
       "8             The Brattle  2024-05-25           4:45 PM    None       NaN  \n",
       "16            The Brattle  2024-05-27          12:00 PM    None       NaN  \n",
       "17            The Brattle  2024-05-27  2:30 PM, 7:15 PM    None       NaN  \n",
       "21            The Brattle  2024-05-28           8:30 PM    None       NaN  \n",
       "..                    ...         ...               ...     ...       ...  \n",
       "456           The Brattle  2025-10-01           8:00 PM    None       NaN  \n",
       "457           The Brattle  2025-10-02           6:00 PM    None       NaN  \n",
       "461  Harvard Film Archive  2025-10-03           7:00 PM    None       NaN  \n",
       "469    West Newton Cinema  2025-10-05           4:00 PM    None       NaN  \n",
       "493  Harvard Film Archive  2025-10-13           7:00 PM    None       NaN  \n",
       "\n",
       "[102 rows x 10 columns]"
      ]
     },
     "metadata": {},
     "output_type": "display_data"
    }
   ],
   "source": [
    "# Display results of updated df\n",
    "missing_rows = df[df.wiki_html.isna()]\n",
    "num_wiki_html_na = missing_rows.shape[0]\n",
    "print(\"Number of screenings missing wiki HTML:\", num_wiki_html_na)\n",
    "if num_wiki_html_na > 0:\n",
    "    print(\"Example rows with missing wiki HTML\")\n",
    "    display.display(missing_rows)"
   ]
  },
  {
   "cell_type": "code",
   "execution_count": 147,
   "id": "95d49e25",
   "metadata": {
    "deletable": false,
    "editable": false
   },
   "outputs": [
    {
     "data": {
      "text/html": [
       "<p><strong><pre style='display: inline;'>q7</pre></strong> passed! 💯</p>"
      ],
      "text/plain": [
       "q7 results: All test cases passed!"
      ]
     },
     "execution_count": 147,
     "metadata": {},
     "output_type": "execute_result"
    }
   ],
   "source": [
    "grader.check(\"q7\")"
   ]
  },
  {
   "cell_type": "markdown",
   "id": "8f7a9317-d9b5-4215-9f27-9df08d7b2f69",
   "metadata": {
    "deletable": false,
    "editable": false
   },
   "source": [
    "<div class=md>\n",
    "\n",
    "<h3>8. Adding Data from Wikipedia and Asking New Questions</h3>\n",
    "\n",
    "Now that we have Wikipedia pages for most or all of our movies, we can add supplemental data from those pages to our DataFrame, ask new questions, and use Pandas and visualizations to try and get some answers. This final section is very open-ended, and you are encouraged to experiment. We want to see what you can do!\n",
    "\n",
    "<div class='prompt'>\n",
    "\n",
    "1. **Data Extraction and Integration**\n",
    "   - Extract at least one new piece of data from each movie page you found.\n",
    "   - Add this data as a new column(s) to your DataFrame.\n",
    "   - Display the head of your updated DataFrame.\n",
    "   - Discuss your strategy for extracting the new data, including any challenges you faced and how you overcame them.\n",
    "\n",
    "2. **Data Analysis and Visualization**\n",
    "    - Formulate at least two new questions that involve the Wikipedia data you've added.\n",
    "    - For each question:\n",
    "      - Clearly state your question and why it's interesting or relevant.\n",
    "      - Describe your approach to answering the question.\n",
    "      - Use Pandas to manipulate and analyze the data as needed.\n",
    "      - Create at least one meaningful visualization that helps answer your question.\n",
    "      - Ensure your plots are well-labeled and easy to interpret.\n",
    "      - Interpret the results of your analysis, discussing any insights, patterns, or surprises you discovered.\n",
    "\n",
    "</div>\n",
    "\n",
    "**Hints:**\n",
    "- The 'info box' on the right side of most Wikipedia pages is fairly standardized across film pages. This might be the easiest place to start.\n",
    "- Some potential pieces of data to extract include the language of the film, its box office revenue or budget, the starring cast, etc.\n",
    "- Feel free to extract more than just a single new piece of data to use in your analysis. If you're feeling particularly adventurous, you can even jump from the film page to other linked pages to acquire more data!\n",
    "- Consider how the new data you've extracted might relate to the screening information you already have. Are there interesting connections or patterns to explore?\n",
    "\n",
    "Remember, the goal is to demonstrate your ability to ask insightful questions, use appropriate data science techniques to answer them, and effectively communicate your findings.\n",
    "</div>"
   ]
  },
  {
   "cell_type": "code",
   "execution_count": 155,
   "id": "ce124146-e7ee-421e-b249-2b421ad3d57b",
   "metadata": {
    "tags": [
     "otter_answer_cell"
    ]
   },
   "outputs": [
    {
     "name": "stdout",
     "output_type": "stream",
     "text": [
      "                    title  wiki_box_office_usd\n",
      "                 Twilight         3346000000.0\n",
      "  Spider-Man: No Way Home         1921000000.0\n",
      "Spider-Man: Far From Home         1133000000.0\n",
      "          The Dark Knight         1082000000.0\n",
      "                     Jaws          825800000.0\n"
     ]
    }
   ],
   "source": [
    "# 1. Data Extraction and Integration\n",
    "def _parse_money_usd(s):\n",
    "    if not isinstance(s, str): \n",
    "        return None\n",
    "    s0 = s.replace(\"\\u00a0\",\" \").lower()\n",
    "\n",
    "    # range: \"$20–25 million\", \"$20 million – $25 million\"\n",
    "    m = re.search(r'(?:us\\$|\\$)\\s*([\\d\\.]+)\\s*(million|billion|m|bn)\\s*(?:-|–|to)\\s*(?:us\\$|\\$)?\\s*([\\d\\.]+)\\s*(million|billion|m|bn)', s0)\n",
    "    if m:\n",
    "        a, au, b, bu = float(m.group(1)), m.group(2), float(m.group(3)), m.group(4)\n",
    "        mult = lambda u: 1e6 if u in (\"million\",\"m\") else 1e9\n",
    "        return ((a*mult(au)) + (b*mult(bu))) / 2.0\n",
    "\n",
    "    # single with million/billion\n",
    "    m = re.search(r'(?:us\\$|\\$)\\s*([\\d\\.]+)\\s*(million|billion|m|bn)\\b', s0)\n",
    "    if m:\n",
    "        val = float(m.group(1))\n",
    "        unit = m.group(2)\n",
    "        return val * (1e6 if unit in (\"million\",\"m\") else 1e9)\n",
    "\n",
    "    # plain dollar number with separators\n",
    "    m = re.search(r'(?:us\\$|\\$)\\s*([\\d]{1,3}(?:[,\\s]\\d{3})+|\\d+)', s0)\n",
    "    if m:\n",
    "        return float(re.sub(r'[,\\s]','', m.group(1)))\n",
    "\n",
    "    return None\n",
    "\n",
    "def _clean_txt(s):\n",
    "    return re.sub(r\"\\s+\", \" \", re.sub(r\"\\[\\d+\\]\", \"\", s or \"\")).strip()\n",
    "\n",
    "def _cell_text(td):\n",
    "    if not td: return \"\"\n",
    "    items = td.select(\"li\")\n",
    "    if items:\n",
    "        return \"; \".join(_clean_txt(i.get_text(\" \")) for i in items if _clean_txt(i.get_text(\" \")))\n",
    "    return _clean_txt(td.get_text(\" \"))\n",
    "\n",
    "def parse_infobox_money_only(html):\n",
    "    out = {\"wiki_budget_usd\": None, \"wiki_box_office_usd\": None}\n",
    "    if not isinstance(html, str) or not html: return out\n",
    "    soup = BeautifulSoup(html, \"html.parser\")\n",
    "    table = soup.find(\"table\", class_=lambda x: x and \"infobox\" in x)\n",
    "    if not table: return out\n",
    "    for tr in table.find_all(\"tr\"):\n",
    "        th, td = tr.find(\"th\"), tr.find(\"td\")\n",
    "        if not th or not td: continue\n",
    "        key = _clean_txt(th.get_text(\" \")).lower()\n",
    "        val = _cell_text(td)\n",
    "        if \"budget\" in key and out[\"wiki_budget_usd\"] is None:\n",
    "            out[\"wiki_budget_usd\"] = _parse_money_usd(val)\n",
    "        elif \"box office\" in key and out[\"wiki_box_office_usd\"] is None:\n",
    "            out[\"wiki_box_office_usd\"] = _parse_money_usd(val)\n",
    "    return out\n",
    "\n",
    "# re-parse only money fields from stored wiki_html (빠르고 안전)\n",
    "money = df[\"wiki_html\"].apply(parse_infobox_money_only).apply(pd.Series)\n",
    "df[\"wiki_budget_usd\"] = money[\"wiki_budget_usd\"]\n",
    "df[\"wiki_box_office_usd\"] = money[\"wiki_box_office_usd\"]\n",
    "\n",
    "# sanity check\n",
    "print(df.loc[df[\"wiki_box_office_usd\"].notna(), [\"title\",\"wiki_box_office_usd\"]]\n",
    "        .sort_values(\"wiki_box_office_usd\", ascending=False).head(5).to_string(index=False))"
   ]
  },
  {
   "cell_type": "code",
   "execution_count": 160,
   "id": "69ce4c29-8c1f-4939-859b-632506dc636f",
   "metadata": {
    "tags": [
     "otter_answer_cell"
    ]
   },
   "outputs": [
    {
     "data": {
      "text/html": [
       "<div>\n",
       "<style scoped>\n",
       "    .dataframe tbody tr th:only-of-type {\n",
       "        vertical-align: middle;\n",
       "    }\n",
       "\n",
       "    .dataframe tbody tr th {\n",
       "        vertical-align: top;\n",
       "    }\n",
       "\n",
       "    .dataframe thead th {\n",
       "        text-align: right;\n",
       "    }\n",
       "</style>\n",
       "<table border=\"1\" class=\"dataframe\">\n",
       "  <thead>\n",
       "    <tr style=\"text-align: right;\">\n",
       "      <th></th>\n",
       "      <th>title</th>\n",
       "      <th>year</th>\n",
       "      <th>screenings</th>\n",
       "      <th>box</th>\n",
       "      <th>budget</th>\n",
       "      <th>genre</th>\n",
       "      <th>runtime</th>\n",
       "    </tr>\n",
       "  </thead>\n",
       "  <tbody>\n",
       "    <tr>\n",
       "      <th>0</th>\n",
       "      <td>12 Angry Men</td>\n",
       "      <td>1957</td>\n",
       "      <td>2</td>\n",
       "      <td>2000000.0</td>\n",
       "      <td>337000.0</td>\n",
       "      <td>Drama</td>\n",
       "      <td>0 days 01:37:00</td>\n",
       "    </tr>\n",
       "    <tr>\n",
       "      <th>1</th>\n",
       "      <td>13 Ghosts</td>\n",
       "      <td>1960</td>\n",
       "      <td>1</td>\n",
       "      <td>1500000.0</td>\n",
       "      <td>NaN</td>\n",
       "      <td>Horror</td>\n",
       "      <td>0 days 01:25:00</td>\n",
       "    </tr>\n",
       "    <tr>\n",
       "      <th>2</th>\n",
       "      <td>2001: A Space Odyssey</td>\n",
       "      <td>1968</td>\n",
       "      <td>2</td>\n",
       "      <td>146000000.0</td>\n",
       "      <td>10500000.0</td>\n",
       "      <td>SciFi</td>\n",
       "      <td>0 days 02:29:00</td>\n",
       "    </tr>\n",
       "    <tr>\n",
       "      <th>3</th>\n",
       "      <td>300</td>\n",
       "      <td>2007</td>\n",
       "      <td>1</td>\n",
       "      <td>NaN</td>\n",
       "      <td>NaN</td>\n",
       "      <td>Action</td>\n",
       "      <td>0 days 01:56:00</td>\n",
       "    </tr>\n",
       "    <tr>\n",
       "      <th>4</th>\n",
       "      <td>7th Heaven</td>\n",
       "      <td>1927</td>\n",
       "      <td>1</td>\n",
       "      <td>2500000.0</td>\n",
       "      <td>1300000.0</td>\n",
       "      <td>Drama</td>\n",
       "      <td>0 days 01:59:00</td>\n",
       "    </tr>\n",
       "  </tbody>\n",
       "</table>\n",
       "</div>"
      ],
      "text/plain": [
       "                   title  year  screenings          box      budget   genre  \\\n",
       "0           12 Angry Men  1957           2    2000000.0    337000.0   Drama   \n",
       "1              13 Ghosts  1960           1    1500000.0         NaN  Horror   \n",
       "2  2001: A Space Odyssey  1968           2  146000000.0  10500000.0   SciFi   \n",
       "3                    300  2007           1          NaN         NaN  Action   \n",
       "4             7th Heaven  1927           1    2500000.0   1300000.0   Drama   \n",
       "\n",
       "          runtime  \n",
       "0 0 days 01:37:00  \n",
       "1 0 days 01:25:00  \n",
       "2 0 days 02:29:00  \n",
       "3 0 days 01:56:00  \n",
       "4 0 days 01:59:00  "
      ]
     },
     "execution_count": 160,
     "metadata": {},
     "output_type": "execute_result"
    }
   ],
   "source": [
    "# 2. Data Analysis and Visualization\n",
    "g = df.groupby([\"title\",\"year\"], as_index=False)\n",
    "film = g.agg(\n",
    "    screenings=(\"title\",\"size\"),\n",
    "    box=(\"wiki_box_office_usd\",\"max\"),\n",
    "    budget=(\"wiki_budget_usd\",\"max\"),\n",
    "    genre=(\"genre\",\"first\"),\n",
    "    runtime=(\"runtime\",\"first\")\n",
    ")\n",
    "\n",
    "film.head()"
   ]
  },
  {
   "cell_type": "code",
   "execution_count": 161,
   "id": "5c37720d-10ea-4c90-95bf-d8ebb6a89e3d",
   "metadata": {
    "tags": [
     "otter_answer_cell"
    ]
   },
   "outputs": [
    {
     "data": {
      "image/png": "[encoded data removed]",
      "text/plain": [
       "<Figure size 700x400 with 1 Axes>"
      ]
     },
     "metadata": {},
     "output_type": "display_data"
    }
   ],
   "source": [
    "sub = film[(film[\"box\"].notna()) & (film[\"box\"]>0) & (film[\"screenings\"]>0)].copy()\n",
    "x = np.log10(sub[\"box\"].values); y = sub[\"screenings\"].values\n",
    "z = np.polyfit(x, y, 1); r = np.corrcoef(x, y)[0,1]\n",
    "xline = np.linspace(x.min(), x.max(), 200); yline = z[0]*xline + z[1]\n",
    "\n",
    "plt.figure(figsize=(7,4))\n",
    "plt.scatter(sub[\"box\"], y, alpha=0.6)\n",
    "plt.plot(10**xline, yline, linewidth=2)\n",
    "plt.xscale(\"log\")\n",
    "plt.title(f\"Screenings vs Box Office (log-x), r={r:.2f}\")\n",
    "plt.xlabel(\"Box office (USD, log scale)\"); plt.ylabel(\"# Screenings\")\n",
    "plt.tight_layout(); plt.show()"
   ]
  },
  {
   "cell_type": "code",
   "execution_count": 162,
   "id": "05d87af6",
   "metadata": {
    "tags": [
     "otter_answer_cell"
    ]
   },
   "outputs": [
    {
     "data": {
      "text/plain": [
       "lang_group\n",
       "English        420\n",
       "Non-English     81\n",
       "Unknown          0\n",
       "Name: count, dtype: int64"
      ]
     },
     "execution_count": 162,
     "metadata": {},
     "output_type": "execute_result"
    }
   ],
   "source": [
    "def is_english(s):\n",
    "    if not isinstance(s, str): return np.nan\n",
    "    return \"english\" in s.lower()\n",
    "\n",
    "df_lang = df.copy()\n",
    "df_lang[\"lang_group\"] = np.where(df_lang[\"wiki_language\"].apply(is_english), \"English\",\n",
    "                         np.where(df_lang[\"wiki_language\"].notna(), \"Non-English\", \"Unknown\"))\n",
    "\n",
    "lang_counts = (df_lang[\"lang_group\"]\n",
    "               .value_counts()\n",
    "               .reindex([\"English\",\"Non-English\",\"Unknown\"])\n",
    "               .fillna(0)\n",
    "               .astype(int))\n",
    "\n",
    "lang_counts"
   ]
  },
  {
   "cell_type": "code",
   "execution_count": 163,
   "id": "76d899db-0e7d-4d80-87e4-1e100b9c0aa8",
   "metadata": {
    "tags": [
     "otter_answer_cell"
    ]
   },
   "outputs": [
    {
     "data": {
      "image/png": "[encoded data removed]",
      "text/plain": [
       "<Figure size 600x400 with 1 Axes>"
      ]
     },
     "metadata": {},
     "output_type": "display_data"
    }
   ],
   "source": [
    "plt.figure(figsize=(6,4))\n",
    "lang_counts.plot(kind=\"bar\")\n",
    "plt.title(\"Screenings by Language Group (from Wikipedia)\")\n",
    "plt.xlabel(\"\"); plt.ylabel(\"Screenings\"); plt.xticks(rotation=0)\n",
    "plt.tight_layout(); plt.show()"
   ]
  },
  {
   "cell_type": "markdown",
   "id": "30dce54e-0e1d-495c-9a9f-f9c3d59268a0",
   "metadata": {
    "deletable": false,
    "editable": false
   },
   "source": [
    "<div class=\"alert alert-info\" style=\"color: #4a4a4a; background-color: #fbe8ff; border-color: #eed4db; border-width: 1px; border-radius: 3px; padding: 10px;\">\n",
    "\n",
    "**Wrap-up**\n",
    "\n",
    "* Please describe the aspect(s) of the assignment you found most challenging. This could be conceptual and/or related to coding and implementation. This is also a good place to ask any remaining questions you may have.\n",
    "\n",
    "* How many hours did you spend working on this assignment? Store this as an int or float in `hours_spent_on_hw`. If you worked on the project in a group, report the *average* time spent per person.\n",
    "\n",
    "</div>"
   ]
  },
  {
   "cell_type": "code",
   "execution_count": 167,
   "id": "4dea51b8-4184-486b-9073-465e6f724ffc",
   "metadata": {
    "tags": [
     "otter_answer_cell"
    ]
   },
   "outputs": [],
   "source": [
    "hours_spent_on_hw = 17.6"
   ]
  },
  {
   "cell_type": "code",
   "execution_count": 165,
   "id": "5217aaf0",
   "metadata": {
    "deletable": false,
    "editable": false
   },
   "outputs": [
    {
     "data": {
      "text/html": [
       "<p><strong><pre style='display: inline;'>wrapup</pre></strong> passed! 🌈</p>"
      ],
      "text/plain": [
       "wrapup results: All test cases passed!"
      ]
     },
     "execution_count": 165,
     "metadata": {},
     "output_type": "execute_result"
    }
   ],
   "source": [
    "grader.check(\"wrapup\")"
   ]
  },
  {
   "cell_type": "code",
   "execution_count": 166,
   "id": "15cc0855-6ed3-42fa-a89a-0ea7f63956bc",
   "metadata": {},
   "outputs": [
    {
     "name": "stdout",
     "output_type": "stream",
     "text": [
      "It took 1061.26 minutes for this notebook to run\n"
     ]
    }
   ],
   "source": [
    "notebook_end = time.time()\n",
    "print(f\"It took {(notebook_end - notebook_start)/60:.2f} minutes for this notebook to run\")"
   ]
  },
  {
   "cell_type": "markdown",
   "id": "273e4ed6-d3d9-44aa-88f6-61f712d915d9",
   "metadata": {},
   "source": [
    "🌈 **This concludes HW1. Thank you!**"
   ]
  }
 ],
 "metadata": {
  "kernelspec": {
   "display_name": "venv313",
   "language": "python",
   "name": "python3"
  },
  "language_info": {
   "codemirror_mode": {
    "name": "ipython",
    "version": 3
   },
   "file_extension": ".py",
   "mimetype": "text/x-python",
   "name": "python",
   "nbconvert_exporter": "python",
   "pygments_lexer": "ipython3",
   "version": "3.13.7"
  },
  "otter": {
   "OK_FORMAT": true,
   "tests": {
    "q1": {
     "name": "q1",
     "points": 10,
     "suites": [
      {
       "cases": [
        {
         "code": ">>> expected_url = './data/html/screenboston.html'\n>>> assert os.path.isfile(expected_url), f'Expected local file {expected_url}'\n",
         "hidden": false,
         "locked": false,
         "points": 3
        },
        {
         "code": ">>> expected_url = './data/html/screenboston.html'\n>>> with open(expected_url, 'r') as f:\n...     content = f.read()\n...     s = BeautifulSoup(content)\n...     assert s.select_one('p').text == 'Screen Boston', f'Content of file saved from {expected_url} should contain a <p> tag with the page name.'\n",
         "hidden": false,
         "locked": false,
         "points": 4
        }
       ],
       "scored": true,
       "setup": "",
       "teardown": "",
       "type": "doctest"
      }
     ]
    },
    "q2": {
     "name": "q2",
     "points": 15,
     "suites": [
      {
       "cases": [
        {
         "code": ">>> n = 50\n>>> assert len(movies) > n, f'`movies` should contain more than {n} elements; you have {len(movies)}.'\n>>> assert all((isinstance(m, dict) for m in movies)), 'Elements of `movies` should all be dictionaries.'\n",
         "hidden": false,
         "locked": false,
         "points": 4
        },
        {
         "code": ">>> keys = {'title', 'directors', 'year', 'genre', 'runtime', 'theater', 'screen_date', 'screen_times'}\n>>> assert all((set(keys).issubset(m.keys()) for m in movies)), f\"Each dictionary in `movies` should contain all of these keys: {', '.join(keys)}. At least one dictionary is missing one or more keys.\"\n",
         "hidden": false,
         "locked": false,
         "points": 4
        },
        {
         "code": ">>> assert all((isinstance(m['year'], int) for m in movies)), \"The 'year' value should be an integer in all dictionaries.\"\n",
         "hidden": false,
         "locked": false,
         "points": 2
        }
       ],
       "scored": true,
       "setup": "",
       "teardown": "",
       "type": "doctest"
      }
     ]
    },
    "q3": {
     "name": "q3",
     "points": 15,
     "suites": [
      {
       "cases": [
        {
         "code": ">>> snapshots = glob.glob('./data/html/snapshot_*.html')\n>>> assert len(snapshots) >= 4, f'You should have at least 4 snapshots, but found {len(snapshots)} files with paths like ./data/html/snapshot_*.html'\n",
         "hidden": false,
         "locked": false,
         "points": 3
        },
        {
         "code": ">>> snapshots = glob.glob('./data/html/snapshot_*.html')\n>>> assert all((re.match('snapshot_\\\\d{8}\\\\.html', os.path.basename(f)) for f in snapshots)), \"All snapshot files should be named in the format 'snapshot_YYYYMMDD.html'\"\n",
         "hidden": false,
         "locked": false,
         "points": 2
        },
        {
         "code": ">>> assert os.path.isfile('data/movies.json'), \"The file 'data/movies.json' should exist.\"\n",
         "hidden": false,
         "locked": false,
         "points": 2
        },
        {
         "code": ">>> with open('data/movies.json', 'r') as f:\n...     movies = json.load(f)\n>>> n = 300\n>>> assert len(movies) > n, f'`movies` should now contain more than {n} elements; you have {len(movies)}.'\n",
         "hidden": false,
         "locked": false,
         "points": 3
        },
        {
         "code": ">>> keys = {'title', 'directors', 'year', 'genre', 'runtime', 'theater', 'screen_date', 'screen_times'}\n>>> assert all((isinstance(m, dict) and set(keys).issubset(m.keys()) for m in movies)), f\"Each dictionary in `movies` should contain all of these keys: {', '.join(keys)}. At least one dictionary is missing one or more keys.\"\n",
         "hidden": false,
         "locked": false,
         "points": 5
        }
       ],
       "scored": true,
       "setup": "",
       "teardown": "",
       "type": "doctest"
      }
     ]
    },
    "q4": {
     "name": "q4",
     "points": 15,
     "suites": [
      {
       "cases": [
        {
         "code": ">>> assert isinstance(df, pd.DataFrame), \"You should have stored your DataFrame in a variable called 'df'\"\n>>> assert df.shape[1] == 8, 'Your DataFrame, df, should have 8 columns'\n",
         "hidden": false,
         "locked": false,
         "points": 3
        },
        {
         "code": ">>> assert df.shape[0] > 300, 'You should have found at least 300 non-duplicate rows'\n>>> assert df.shape[0] == df.drop_duplicates().shape[0], 'There are still duplicate rows in your DataFrame'\n",
         "hidden": false,
         "locked": false,
         "points": 3
        },
        {
         "code": ">>> def is_datetime_column_hacky(column):\n...     dtype_str = str(column.dtype)\n...     valid_types = ['date', 'timestamp', 'timedelta', 'duration']\n...     return any((t in dtype_str.lower() for t in valid_types))\n>>> assert is_datetime_column_hacky(df['screen_date']), \"The 'screen_date' column must be either a Pandas or PyArrow date/datetime type.\"\n",
         "hidden": false,
         "locked": false,
         "points": 2
        },
        {
         "code": ">>> def is_datetime_column_hacky(column):\n...     dtype_str = str(column.dtype)\n...     valid_types = ['date', 'timestamp', 'timedelta', 'duration']\n...     return any((t in dtype_str.lower() for t in valid_types))\n>>> assert is_datetime_column_hacky(df['runtime']), \"The 'runtime' column must be either a Pandas or PyArrow timedelta type.\"\n",
         "hidden": false,
         "locked": false,
         "points": 2
        },
        {
         "code": ">>> assert df['screen_date'].is_monotonic_increasing, \"The 'screen_date' column is not sorted in ascending order\"\n",
         "hidden": false,
         "locked": false,
         "points": 2
        }
       ],
       "scored": true,
       "setup": "",
       "teardown": "",
       "type": "doctest"
      }
     ]
    },
    "q6": {
     "name": "q6",
     "points": 7,
     "suites": [
      {
       "cases": [
        {
         "code": ">>> assert 'wiki_id' in df.columns, \"`df` should now have a column called 'wiki_id'.\"\n",
         "hidden": false,
         "locked": false,
         "points": 2
        },
        {
         "code": ">>> p = 0.5\n>>> assert (q := df['wiki_id'].notna().mean()) >= p, f'You should have been able to find wiki IDs for at least {p:.0%} of the screenings. You found {q:.0%}.'\n",
         "hidden": false,
         "locked": false,
         "points": 3
        }
       ],
       "scored": true,
       "setup": "",
       "teardown": "",
       "type": "doctest"
      }
     ]
    },
    "q7": {
     "name": "q7",
     "points": 3,
     "suites": [
      {
       "cases": [
        {
         "code": ">>> assert 'wiki_html' in df.columns, \"`df` should now have a column called 'wiki_html'.\"\n",
         "hidden": false,
         "locked": false,
         "points": 1
        },
        {
         "code": ">>> p = 0.5\n>>> assert (q := df['wiki_html'].notna().mean()) >= p, f'You should have been able to acquire wiki page HTML content for at least {p:.0%} of the screenings. You found {q:.0%}.'\n",
         "hidden": false,
         "locked": false,
         "points": 2
        }
       ],
       "scored": true,
       "setup": "",
       "teardown": "",
       "type": "doctest"
      }
     ]
    },
    "wrapup": {
     "name": "wrapup",
     "points": 5,
     "suites": [
      {
       "cases": [
        {
         "code": ">>> assert float(hours_spent_on_hw), 'Please select a time in hours (int or float) to specify how long you spent on this assignment.'\n",
         "hidden": false,
         "locked": false,
         "points": 5
        }
       ],
       "scored": true,
       "setup": "",
       "teardown": "",
       "type": "doctest"
      }
     ]
    }
   }
  }
 },
 "nbformat": 4,
 "nbformat_minor": 5
}
